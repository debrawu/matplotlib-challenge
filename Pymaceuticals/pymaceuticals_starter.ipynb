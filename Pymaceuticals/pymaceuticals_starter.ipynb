{
 "cells": [
  {
   "cell_type": "markdown",
   "metadata": {},
   "source": [
    "## Observations and Insights "
   ]
  },
  {
   "cell_type": "markdown",
   "metadata": {},
   "source": []
  },
  {
   "cell_type": "code",
   "execution_count": 3,
   "metadata": {},
   "outputs": [
    {
     "name": "stdout",
     "output_type": "stream",
     "text": [
      "Data Shape Mouse Meta Data: (249, 5)\n",
      "Data Shape Study Results: (1893, 4)\n"
     ]
    }
   ],
   "source": [
    "# Dependencies and Setup\n",
    "import matplotlib.pyplot as plt\n",
    "import pandas as pd\n",
    "import scipy.stats as sts\n",
    "import numpy as np\n",
    "\n",
    "# Study data files\n",
    "mouse_metadata_path = \"data/Mouse_metadata.csv\"\n",
    "study_results_path = \"data/Study_results.csv\"\n",
    "\n",
    "# Read the mouse data and the study results\n",
    "mouse_metadata = pd.read_csv(mouse_metadata_path)\n",
    "study_results = pd.read_csv(study_results_path)\n",
    "\n",
    "#print results from each csv\n",
    "print(f\"Data Shape Mouse Meta Data: {mouse_metadata.shape}\")\n",
    "print(f\"Data Shape Study Results: {study_results.shape}\")\n"
   ]
  },
  {
   "cell_type": "code",
   "execution_count": 4,
   "metadata": {},
   "outputs": [
    {
     "data": {
      "text/html": [
       "<div>\n",
       "<style scoped>\n",
       "    .dataframe tbody tr th:only-of-type {\n",
       "        vertical-align: middle;\n",
       "    }\n",
       "\n",
       "    .dataframe tbody tr th {\n",
       "        vertical-align: top;\n",
       "    }\n",
       "\n",
       "    .dataframe thead th {\n",
       "        text-align: right;\n",
       "    }\n",
       "</style>\n",
       "<table border=\"1\" class=\"dataframe\">\n",
       "  <thead>\n",
       "    <tr style=\"text-align: right;\">\n",
       "      <th></th>\n",
       "      <th>Mouse ID</th>\n",
       "      <th>Drug Regimen</th>\n",
       "      <th>Sex</th>\n",
       "      <th>Age_months</th>\n",
       "      <th>Weight (g)</th>\n",
       "      <th>Timepoint</th>\n",
       "      <th>Tumor Volume (mm3)</th>\n",
       "      <th>Metastatic Sites</th>\n",
       "    </tr>\n",
       "  </thead>\n",
       "  <tbody>\n",
       "    <tr>\n",
       "      <th>0</th>\n",
       "      <td>k403</td>\n",
       "      <td>Ramicane</td>\n",
       "      <td>Male</td>\n",
       "      <td>21</td>\n",
       "      <td>16</td>\n",
       "      <td>0</td>\n",
       "      <td>45.000000</td>\n",
       "      <td>0</td>\n",
       "    </tr>\n",
       "    <tr>\n",
       "      <th>1</th>\n",
       "      <td>k403</td>\n",
       "      <td>Ramicane</td>\n",
       "      <td>Male</td>\n",
       "      <td>21</td>\n",
       "      <td>16</td>\n",
       "      <td>5</td>\n",
       "      <td>38.825898</td>\n",
       "      <td>0</td>\n",
       "    </tr>\n",
       "    <tr>\n",
       "      <th>2</th>\n",
       "      <td>k403</td>\n",
       "      <td>Ramicane</td>\n",
       "      <td>Male</td>\n",
       "      <td>21</td>\n",
       "      <td>16</td>\n",
       "      <td>10</td>\n",
       "      <td>35.014271</td>\n",
       "      <td>1</td>\n",
       "    </tr>\n",
       "    <tr>\n",
       "      <th>3</th>\n",
       "      <td>k403</td>\n",
       "      <td>Ramicane</td>\n",
       "      <td>Male</td>\n",
       "      <td>21</td>\n",
       "      <td>16</td>\n",
       "      <td>15</td>\n",
       "      <td>34.223992</td>\n",
       "      <td>1</td>\n",
       "    </tr>\n",
       "    <tr>\n",
       "      <th>4</th>\n",
       "      <td>k403</td>\n",
       "      <td>Ramicane</td>\n",
       "      <td>Male</td>\n",
       "      <td>21</td>\n",
       "      <td>16</td>\n",
       "      <td>20</td>\n",
       "      <td>32.997729</td>\n",
       "      <td>1</td>\n",
       "    </tr>\n",
       "  </tbody>\n",
       "</table>\n",
       "</div>"
      ],
      "text/plain": [
       "  Mouse ID Drug Regimen   Sex  Age_months  Weight (g)  Timepoint  \\\n",
       "0     k403     Ramicane  Male          21          16          0   \n",
       "1     k403     Ramicane  Male          21          16          5   \n",
       "2     k403     Ramicane  Male          21          16         10   \n",
       "3     k403     Ramicane  Male          21          16         15   \n",
       "4     k403     Ramicane  Male          21          16         20   \n",
       "\n",
       "   Tumor Volume (mm3)  Metastatic Sites  \n",
       "0           45.000000                 0  \n",
       "1           38.825898                 0  \n",
       "2           35.014271                 1  \n",
       "3           34.223992                 1  \n",
       "4           32.997729                 1  "
      ]
     },
     "execution_count": 4,
     "metadata": {},
     "output_type": "execute_result"
    }
   ],
   "source": [
    "# Combine the data into a single dataset\n",
    "\n",
    "new_df = pd.merge(mouse_metadata, study_results, how=\"outer\", on='Mouse ID', )\n",
    "\n",
    "# Display the data table for preview\n",
    "\n",
    "new_df.head()"
   ]
  },
  {
   "cell_type": "code",
   "execution_count": 127,
   "metadata": {},
   "outputs": [
    {
     "data": {
      "text/plain": [
       "1893"
      ]
     },
     "execution_count": 127,
     "metadata": {},
     "output_type": "execute_result"
    }
   ],
   "source": [
    "# Checking the number of mice.\n",
    "mice_count = new_df['Mouse ID'].count()\n",
    "\n",
    "mice_count"
   ]
  },
  {
   "cell_type": "code",
   "execution_count": 130,
   "metadata": {},
   "outputs": [],
   "source": [
    "# Getting the duplicate mice by ID number that shows up for Mouse ID and Timepoint. \n",
    "duplicate_mice = new_df.loc[new_df.duplicated(subset=['Mouse ID', 'Timepoint']), 'Mouse ID'].unique()\n",
    "\n"
   ]
  },
  {
   "cell_type": "code",
   "execution_count": 131,
   "metadata": {},
   "outputs": [
    {
     "data": {
      "text/plain": [
       "array(['g989'], dtype=object)"
      ]
     },
     "execution_count": 131,
     "metadata": {},
     "output_type": "execute_result"
    }
   ],
   "source": [
    "# Optional: Get all the data for the duplicate mouse ID. \n",
    "\n",
    "duplicate_mice\n"
   ]
  },
  {
   "cell_type": "code",
   "execution_count": 135,
   "metadata": {},
   "outputs": [
    {
     "data": {
      "text/plain": [
       "1880"
      ]
     },
     "execution_count": 135,
     "metadata": {},
     "output_type": "execute_result"
    }
   ],
   "source": [
    "# Create a clean DataFrame by dropping the duplicate mouse by its ID.\n",
    "\n",
    "single_mouse = new_df[new_df['Mouse ID'].isin(duplicate_mice)==False]\n",
    "\n",
    "single_mouse['Mouse ID'].count()"
   ]
  },
  {
   "cell_type": "code",
   "execution_count": 136,
   "metadata": {},
   "outputs": [
    {
     "data": {
      "text/plain": [
       "248"
      ]
     },
     "execution_count": 136,
     "metadata": {},
     "output_type": "execute_result"
    }
   ],
   "source": [
    "# Checking the number of mice in the clean DataFrame.\n",
    "count_mice = single_mouse.groupby('Mouse ID')\n",
    "\n",
    "total_mice = len(count_mice)\n",
    "\n",
    "total_mice"
   ]
  },
  {
   "cell_type": "markdown",
   "metadata": {},
   "source": [
    "## Summary Statistics"
   ]
  },
  {
   "cell_type": "code",
   "execution_count": 137,
   "metadata": {},
   "outputs": [
    {
     "data": {
      "text/html": [
       "<div>\n",
       "<style scoped>\n",
       "    .dataframe tbody tr th:only-of-type {\n",
       "        vertical-align: middle;\n",
       "    }\n",
       "\n",
       "    .dataframe tbody tr th {\n",
       "        vertical-align: top;\n",
       "    }\n",
       "\n",
       "    .dataframe thead th {\n",
       "        text-align: right;\n",
       "    }\n",
       "</style>\n",
       "<table border=\"1\" class=\"dataframe\">\n",
       "  <thead>\n",
       "    <tr style=\"text-align: right;\">\n",
       "      <th></th>\n",
       "      <th>mean</th>\n",
       "      <th>median</th>\n",
       "      <th>var</th>\n",
       "      <th>std</th>\n",
       "      <th>sem</th>\n",
       "    </tr>\n",
       "    <tr>\n",
       "      <th>Drug Regimen</th>\n",
       "      <th></th>\n",
       "      <th></th>\n",
       "      <th></th>\n",
       "      <th></th>\n",
       "      <th></th>\n",
       "    </tr>\n",
       "  </thead>\n",
       "  <tbody>\n",
       "    <tr>\n",
       "      <th>Capomulin</th>\n",
       "      <td>40.675741</td>\n",
       "      <td>41.557809</td>\n",
       "      <td>24.947764</td>\n",
       "      <td>4.994774</td>\n",
       "      <td>0.329346</td>\n",
       "    </tr>\n",
       "    <tr>\n",
       "      <th>Ceftamin</th>\n",
       "      <td>52.591172</td>\n",
       "      <td>51.776157</td>\n",
       "      <td>39.290177</td>\n",
       "      <td>6.268188</td>\n",
       "      <td>0.469821</td>\n",
       "    </tr>\n",
       "    <tr>\n",
       "      <th>Infubinol</th>\n",
       "      <td>52.884795</td>\n",
       "      <td>51.820584</td>\n",
       "      <td>43.128684</td>\n",
       "      <td>6.567243</td>\n",
       "      <td>0.492236</td>\n",
       "    </tr>\n",
       "    <tr>\n",
       "      <th>Ketapril</th>\n",
       "      <td>55.235638</td>\n",
       "      <td>53.698743</td>\n",
       "      <td>68.553577</td>\n",
       "      <td>8.279709</td>\n",
       "      <td>0.603860</td>\n",
       "    </tr>\n",
       "    <tr>\n",
       "      <th>Naftisol</th>\n",
       "      <td>54.331565</td>\n",
       "      <td>52.509285</td>\n",
       "      <td>66.173479</td>\n",
       "      <td>8.134708</td>\n",
       "      <td>0.596466</td>\n",
       "    </tr>\n",
       "    <tr>\n",
       "      <th>Placebo</th>\n",
       "      <td>54.033581</td>\n",
       "      <td>52.288934</td>\n",
       "      <td>61.168083</td>\n",
       "      <td>7.821003</td>\n",
       "      <td>0.581331</td>\n",
       "    </tr>\n",
       "    <tr>\n",
       "      <th>Propriva</th>\n",
       "      <td>52.320930</td>\n",
       "      <td>50.446266</td>\n",
       "      <td>43.852013</td>\n",
       "      <td>6.622085</td>\n",
       "      <td>0.544332</td>\n",
       "    </tr>\n",
       "    <tr>\n",
       "      <th>Ramicane</th>\n",
       "      <td>40.216745</td>\n",
       "      <td>40.673236</td>\n",
       "      <td>23.486704</td>\n",
       "      <td>4.846308</td>\n",
       "      <td>0.320955</td>\n",
       "    </tr>\n",
       "    <tr>\n",
       "      <th>Stelasyn</th>\n",
       "      <td>54.233149</td>\n",
       "      <td>52.431737</td>\n",
       "      <td>59.450562</td>\n",
       "      <td>7.710419</td>\n",
       "      <td>0.573111</td>\n",
       "    </tr>\n",
       "    <tr>\n",
       "      <th>Zoniferol</th>\n",
       "      <td>53.236507</td>\n",
       "      <td>51.818479</td>\n",
       "      <td>48.533355</td>\n",
       "      <td>6.966589</td>\n",
       "      <td>0.516398</td>\n",
       "    </tr>\n",
       "  </tbody>\n",
       "</table>\n",
       "</div>"
      ],
      "text/plain": [
       "                   mean     median        var       std       sem\n",
       "Drug Regimen                                                     \n",
       "Capomulin     40.675741  41.557809  24.947764  4.994774  0.329346\n",
       "Ceftamin      52.591172  51.776157  39.290177  6.268188  0.469821\n",
       "Infubinol     52.884795  51.820584  43.128684  6.567243  0.492236\n",
       "Ketapril      55.235638  53.698743  68.553577  8.279709  0.603860\n",
       "Naftisol      54.331565  52.509285  66.173479  8.134708  0.596466\n",
       "Placebo       54.033581  52.288934  61.168083  7.821003  0.581331\n",
       "Propriva      52.320930  50.446266  43.852013  6.622085  0.544332\n",
       "Ramicane      40.216745  40.673236  23.486704  4.846308  0.320955\n",
       "Stelasyn      54.233149  52.431737  59.450562  7.710419  0.573111\n",
       "Zoniferol     53.236507  51.818479  48.533355  6.966589  0.516398"
      ]
     },
     "execution_count": 137,
     "metadata": {},
     "output_type": "execute_result"
    }
   ],
   "source": [
    "# Generate a summary statistics table of mean, median, variance, standard deviation, and SEM of the tumor volume for each regimen\n",
    "\n",
    "# This method is the most straighforward, creating multiple series and putting them all together at the end.\n",
    "\n",
    "summary_stats_1 = single_mouse.groupby('Drug Regimen')\n",
    "first_table = summary_stats_1.agg(['mean', 'median', 'var','std', 'sem'])['Tumor Volume (mm3)']\n",
    "first_table"
   ]
  },
  {
   "cell_type": "code",
   "execution_count": 138,
   "metadata": {},
   "outputs": [
    {
     "data": {
      "text/html": [
       "<div>\n",
       "<style scoped>\n",
       "    .dataframe tbody tr th:only-of-type {\n",
       "        vertical-align: middle;\n",
       "    }\n",
       "\n",
       "    .dataframe tbody tr th {\n",
       "        vertical-align: top;\n",
       "    }\n",
       "\n",
       "    .dataframe thead th {\n",
       "        text-align: right;\n",
       "    }\n",
       "</style>\n",
       "<table border=\"1\" class=\"dataframe\">\n",
       "  <thead>\n",
       "    <tr style=\"text-align: right;\">\n",
       "      <th></th>\n",
       "      <th>Mean</th>\n",
       "      <th>Median</th>\n",
       "      <th>Variance</th>\n",
       "      <th>St Dev</th>\n",
       "      <th>SEM</th>\n",
       "    </tr>\n",
       "    <tr>\n",
       "      <th>Drug Regimen</th>\n",
       "      <th></th>\n",
       "      <th></th>\n",
       "      <th></th>\n",
       "      <th></th>\n",
       "      <th></th>\n",
       "    </tr>\n",
       "  </thead>\n",
       "  <tbody>\n",
       "    <tr>\n",
       "      <th>Capomulin</th>\n",
       "      <td>40.675741</td>\n",
       "      <td>41.557809</td>\n",
       "      <td>24.947764</td>\n",
       "      <td>4.994774</td>\n",
       "      <td>0.329346</td>\n",
       "    </tr>\n",
       "    <tr>\n",
       "      <th>Ceftamin</th>\n",
       "      <td>52.591172</td>\n",
       "      <td>51.776157</td>\n",
       "      <td>39.290177</td>\n",
       "      <td>6.268188</td>\n",
       "      <td>0.469821</td>\n",
       "    </tr>\n",
       "    <tr>\n",
       "      <th>Infubinol</th>\n",
       "      <td>52.884795</td>\n",
       "      <td>51.820584</td>\n",
       "      <td>43.128684</td>\n",
       "      <td>6.567243</td>\n",
       "      <td>0.492236</td>\n",
       "    </tr>\n",
       "    <tr>\n",
       "      <th>Ketapril</th>\n",
       "      <td>55.235638</td>\n",
       "      <td>53.698743</td>\n",
       "      <td>68.553577</td>\n",
       "      <td>8.279709</td>\n",
       "      <td>0.603860</td>\n",
       "    </tr>\n",
       "    <tr>\n",
       "      <th>Naftisol</th>\n",
       "      <td>54.331565</td>\n",
       "      <td>52.509285</td>\n",
       "      <td>66.173479</td>\n",
       "      <td>8.134708</td>\n",
       "      <td>0.596466</td>\n",
       "    </tr>\n",
       "    <tr>\n",
       "      <th>Placebo</th>\n",
       "      <td>54.033581</td>\n",
       "      <td>52.288934</td>\n",
       "      <td>61.168083</td>\n",
       "      <td>7.821003</td>\n",
       "      <td>0.581331</td>\n",
       "    </tr>\n",
       "    <tr>\n",
       "      <th>Propriva</th>\n",
       "      <td>52.320930</td>\n",
       "      <td>50.446266</td>\n",
       "      <td>43.852013</td>\n",
       "      <td>6.622085</td>\n",
       "      <td>0.544332</td>\n",
       "    </tr>\n",
       "    <tr>\n",
       "      <th>Ramicane</th>\n",
       "      <td>40.216745</td>\n",
       "      <td>40.673236</td>\n",
       "      <td>23.486704</td>\n",
       "      <td>4.846308</td>\n",
       "      <td>0.320955</td>\n",
       "    </tr>\n",
       "    <tr>\n",
       "      <th>Stelasyn</th>\n",
       "      <td>54.233149</td>\n",
       "      <td>52.431737</td>\n",
       "      <td>59.450562</td>\n",
       "      <td>7.710419</td>\n",
       "      <td>0.573111</td>\n",
       "    </tr>\n",
       "    <tr>\n",
       "      <th>Zoniferol</th>\n",
       "      <td>53.236507</td>\n",
       "      <td>51.818479</td>\n",
       "      <td>48.533355</td>\n",
       "      <td>6.966589</td>\n",
       "      <td>0.516398</td>\n",
       "    </tr>\n",
       "  </tbody>\n",
       "</table>\n",
       "</div>"
      ],
      "text/plain": [
       "                   Mean     Median   Variance    St Dev       SEM\n",
       "Drug Regimen                                                     \n",
       "Capomulin     40.675741  41.557809  24.947764  4.994774  0.329346\n",
       "Ceftamin      52.591172  51.776157  39.290177  6.268188  0.469821\n",
       "Infubinol     52.884795  51.820584  43.128684  6.567243  0.492236\n",
       "Ketapril      55.235638  53.698743  68.553577  8.279709  0.603860\n",
       "Naftisol      54.331565  52.509285  66.173479  8.134708  0.596466\n",
       "Placebo       54.033581  52.288934  61.168083  7.821003  0.581331\n",
       "Propriva      52.320930  50.446266  43.852013  6.622085  0.544332\n",
       "Ramicane      40.216745  40.673236  23.486704  4.846308  0.320955\n",
       "Stelasyn      54.233149  52.431737  59.450562  7.710419  0.573111\n",
       "Zoniferol     53.236507  51.818479  48.533355  6.966589  0.516398"
      ]
     },
     "execution_count": 138,
     "metadata": {},
     "output_type": "execute_result"
    }
   ],
   "source": [
    "# Generate a summary statistics table of mean, median, variance, standard deviation, and SEM of the tumor volume for each regimen\n",
    "\n",
    "# This method produces everything in a single groupby function\n",
    "group_mean = single_mouse.groupby('Drug Regimen').mean()['Tumor Volume (mm3)']\n",
    "group_median = single_mouse.groupby('Drug Regimen').median()['Tumor Volume (mm3)']\n",
    "group_var = single_mouse.groupby('Drug Regimen').var()['Tumor Volume (mm3)']\n",
    "group_std = single_mouse.groupby('Drug Regimen').std()['Tumor Volume (mm3)']\n",
    "group_sem = single_mouse.groupby('Drug Regimen').sem()['Tumor Volume (mm3)']\n",
    "\n",
    "\n",
    "summary_stats = pd.DataFrame({'Mean': group_mean,\n",
    "                             'Median': group_median,\n",
    "                             'Variance': group_var,\n",
    "                             'St Dev': group_std,\n",
    "                             'SEM': group_sem})\n",
    "summary_stats"
   ]
  },
  {
   "cell_type": "markdown",
   "metadata": {},
   "source": [
    "# Bar and Pie Charts"
   ]
  },
  {
   "cell_type": "code",
   "execution_count": 139,
   "metadata": {},
   "outputs": [
    {
     "data": {
      "text/plain": [
       "Text(0, 0.5, 'Number of Mice')"
      ]
     },
     "execution_count": 139,
     "metadata": {},
     "output_type": "execute_result"
    },
    {
     "data": {
      "image/png": "[encoded data removed]",
      "text/plain": [
       "<Figure size 432x288 with 1 Axes>"
      ]
     },
     "metadata": {
      "needs_background": "light"
     },
     "output_type": "display_data"
    }
   ],
   "source": [
    "# Generate a bar plot showing the total number of mice for each treatment throughout the course of the study using pandas. \n",
    "\n",
    "#find the number of mice per drug regimen\n",
    "mice_per_treatment = single_mouse.groupby(['Drug Regimen']).count()['Mouse ID']\n",
    "\n",
    "#print the number of mice per treatment\n",
    "mice_per_treatment\n",
    "\n",
    "#plot using pandas \n",
    "mice_per_treatment.plot(kind='bar', color={'red'})\n",
    "\n",
    "#label data\n",
    "plt.title('Number of Mice per Drug Regimen')\n",
    "plt.ylabel('Number of Mice')\n",
    "\n",
    "#somehow the xaxis is already labeled?"
   ]
  },
  {
   "cell_type": "code",
   "execution_count": 140,
   "metadata": {},
   "outputs": [
    {
     "data": {
      "text/plain": [
       "Text(0.5, 0, 'Drug Regimen')"
      ]
     },
     "execution_count": 140,
     "metadata": {},
     "output_type": "execute_result"
    },
    {
     "data": {
      "image/png": "[encoded data removed]",
      "text/plain": [
       "<Figure size 432x288 with 1 Axes>"
      ]
     },
     "metadata": {
      "needs_background": "light"
     },
     "output_type": "display_data"
    }
   ],
   "source": [
    "# Generate a bar plot showing the total number of mice for each treatment throughout the course of the study using pyplot.\n",
    "\n",
    "#find the number of mice per drug regimen\n",
    "mice_per_treatment = single_mouse.groupby(['Drug Regimen']).count()['Mouse ID']\n",
    "\n",
    "#create an array \n",
    "users = mice_per_treatment\n",
    "users\n",
    "\n",
    "x_axis = np.arange(len(users))\n",
    "x_axis\n",
    "\n",
    "#plot the data to a bar graph\n",
    "plt.bar(x=x_axis, height=users, color='r', alpha=1, align='center')\n",
    "\n",
    "#label the bars\n",
    "plt.xticks(x_axis, ['Capomulin', 'Ceftamin', 'Infubinol', 'Ketapril', 'Naftisol', 'Placebo', 'Propriva',' Ramicane', 'Stelasyn', 'Zoniferol'], rotation=90)\n",
    "plt.title('Number of Mice per Drug Regimen')\n",
    "plt.ylabel('Number of Mice')\n",
    "plt.xlabel('Drug Regimen')"
   ]
  },
  {
   "cell_type": "code",
   "execution_count": 147,
   "metadata": {},
   "outputs": [
    {
     "data": {
      "text/plain": [
       "Text(0.5, 1.0, 'Gender Distribution of Mice')"
      ]
     },
     "execution_count": 147,
     "metadata": {},
     "output_type": "execute_result"
    },
    {
     "data": {
      "image/png": "[encoded data removed]",
      "text/plain": [
       "<Figure size 432x288 with 1 Axes>"
      ]
     },
     "metadata": {},
     "output_type": "display_data"
    }
   ],
   "source": [
    "# Generate a pie plot showing the distribution of female versus male mice using pandas\n",
    "\n",
    "#find the number of mice per gender\n",
    "mice_per_gender = single_mouse.groupby(['Sex']).count()['Mouse ID']\n",
    "\n",
    "mice_per_gender\n",
    "\n",
    "labels = ['Female', 'Male']\n",
    "counts = [922, 958]\n",
    "# colors = ['pink', 'lightskyblue'] obviously this didn't work\n",
    "\n",
    "#plot using pandas \n",
    "mice_per_gender.plot.pie(y='counts')\n",
    "\n",
    "plt.pie(counts, labels=labels, autopct='%1.1f%%')\n",
    "plt.title('Gender Distribution of Mice')\n",
    "\n"
   ]
  },
  {
   "cell_type": "code",
   "execution_count": 148,
   "metadata": {},
   "outputs": [
    {
     "data": {
      "text/plain": [
       "Text(0.5, 1.0, 'Gender Distribution of Mice')"
      ]
     },
     "execution_count": 148,
     "metadata": {},
     "output_type": "execute_result"
    },
    {
     "data": {
      "image/png": "[encoded data removed]",
      "text/plain": [
       "<Figure size 432x288 with 1 Axes>"
      ]
     },
     "metadata": {},
     "output_type": "display_data"
    }
   ],
   "source": [
    "# Generate a pie plot showing the distribution of female versus male mice using pyplot\n",
    "\n",
    "#find the number of mice per gender\n",
    "mice_per_gender = single_mouse.groupby(['Sex']).count()['Mouse ID']\n",
    "\n",
    "mice_per_gender\n",
    "\n",
    "labels = ['Female', 'Male']\n",
    "counts = [922, 958]\n",
    "colors = ['blue', 'orange'] \n",
    "\n",
    "#plot using pandas \n",
    "plt.pie(counts, labels=labels, autopct='%1.1f%%')\n",
    "\n",
    "plt.title('Gender Distribution of Mice')\n",
    "\n"
   ]
  },
  {
   "cell_type": "markdown",
   "metadata": {},
   "source": [
    "## Quartiles, Outliers and Boxplots"
   ]
  },
  {
   "cell_type": "code",
   "execution_count": 149,
   "metadata": {},
   "outputs": [
    {
     "data": {
      "text/html": [
       "<div>\n",
       "<style scoped>\n",
       "    .dataframe tbody tr th:only-of-type {\n",
       "        vertical-align: middle;\n",
       "    }\n",
       "\n",
       "    .dataframe tbody tr th {\n",
       "        vertical-align: top;\n",
       "    }\n",
       "\n",
       "    .dataframe thead th {\n",
       "        text-align: right;\n",
       "    }\n",
       "</style>\n",
       "<table border=\"1\" class=\"dataframe\">\n",
       "  <thead>\n",
       "    <tr style=\"text-align: right;\">\n",
       "      <th></th>\n",
       "      <th>Drug Regimen</th>\n",
       "      <th>Timepoint</th>\n",
       "      <th>Tumor Volume (mm3)</th>\n",
       "    </tr>\n",
       "    <tr>\n",
       "      <th>Mouse ID</th>\n",
       "      <th></th>\n",
       "      <th></th>\n",
       "      <th></th>\n",
       "    </tr>\n",
       "  </thead>\n",
       "  <tbody>\n",
       "    <tr>\n",
       "      <th>b128</th>\n",
       "      <td>Capomulin</td>\n",
       "      <td>45</td>\n",
       "      <td>45.651331</td>\n",
       "    </tr>\n",
       "    <tr>\n",
       "      <th>b742</th>\n",
       "      <td>Capomulin</td>\n",
       "      <td>45</td>\n",
       "      <td>45.000000</td>\n",
       "    </tr>\n",
       "    <tr>\n",
       "      <th>f966</th>\n",
       "      <td>Capomulin</td>\n",
       "      <td>20</td>\n",
       "      <td>45.000000</td>\n",
       "    </tr>\n",
       "    <tr>\n",
       "      <th>g288</th>\n",
       "      <td>Capomulin</td>\n",
       "      <td>45</td>\n",
       "      <td>46.304003</td>\n",
       "    </tr>\n",
       "    <tr>\n",
       "      <th>g316</th>\n",
       "      <td>Capomulin</td>\n",
       "      <td>45</td>\n",
       "      <td>46.809225</td>\n",
       "    </tr>\n",
       "    <tr>\n",
       "      <th>...</th>\n",
       "      <td>...</td>\n",
       "      <td>...</td>\n",
       "      <td>...</td>\n",
       "    </tr>\n",
       "    <tr>\n",
       "      <th>x226</th>\n",
       "      <td>Ceftamin</td>\n",
       "      <td>0</td>\n",
       "      <td>45.000000</td>\n",
       "    </tr>\n",
       "    <tr>\n",
       "      <th>x581</th>\n",
       "      <td>Ceftamin</td>\n",
       "      <td>45</td>\n",
       "      <td>64.634949</td>\n",
       "    </tr>\n",
       "    <tr>\n",
       "      <th>x822</th>\n",
       "      <td>Ceftamin</td>\n",
       "      <td>45</td>\n",
       "      <td>61.386660</td>\n",
       "    </tr>\n",
       "    <tr>\n",
       "      <th>y769</th>\n",
       "      <td>Ceftamin</td>\n",
       "      <td>45</td>\n",
       "      <td>68.594745</td>\n",
       "    </tr>\n",
       "    <tr>\n",
       "      <th>y865</th>\n",
       "      <td>Ceftamin</td>\n",
       "      <td>45</td>\n",
       "      <td>64.729837</td>\n",
       "    </tr>\n",
       "  </tbody>\n",
       "</table>\n",
       "<p>100 rows × 3 columns</p>\n",
       "</div>"
      ],
      "text/plain": [
       "         Drug Regimen  Timepoint  Tumor Volume (mm3)\n",
       "Mouse ID                                            \n",
       "b128        Capomulin         45           45.651331\n",
       "b742        Capomulin         45           45.000000\n",
       "f966        Capomulin         20           45.000000\n",
       "g288        Capomulin         45           46.304003\n",
       "g316        Capomulin         45           46.809225\n",
       "...               ...        ...                 ...\n",
       "x226         Ceftamin          0           45.000000\n",
       "x581         Ceftamin         45           64.634949\n",
       "x822         Ceftamin         45           61.386660\n",
       "y769         Ceftamin         45           68.594745\n",
       "y865         Ceftamin         45           64.729837\n",
       "\n",
       "[100 rows x 3 columns]"
      ]
     },
     "execution_count": 149,
     "metadata": {},
     "output_type": "execute_result"
    }
   ],
   "source": [
    "# Calculate the final tumor volume of each mouse across four of the treatment regimens:  \n",
    "# final_tumor_vol = single_mouse.groupby(['Drug Regimen', 'Mouse ID'])['Tumor Volume (mm3)']\n",
    "# last_values = final_tumor_vol.last()\n",
    "\n",
    "# Capomulin, Ramicane, Infubinol, and Ceftamin\n",
    "# capomulin = single_mouse.loc[single_mouse['Drug Regimen'] == 'Capomulin', ['Mouse ID', 'Timepoint']]\n",
    "# ramicane = single_mouse.loc[single_mouse['Drug Regimen'] == 'Ramicane',:]\n",
    "# infubinol = single_mouse.loc[single_mouse['Drug Regimen'] == 'Infubinol',:]\n",
    "# ceftamin = single_mouse.loc[single_mouse['Drug Regimen'] == 'Ceftamin',:]\n",
    "\n",
    "# print(capomulin)\n",
    "# print(ramicane)\n",
    "# print(infubinol)\n",
    "# print(ceftamin)\n",
    "\n",
    "# Start by getting the last (greatest) timepoint for each mouse\n",
    "# greatest_cap = capomulin.groupby('Mouse ID').max()['Timepoint']\n",
    "# greatest_ram = ramicane.groupby('Mouse ID').max()['Timepoint']\n",
    "# greatest_inf = infubinol.groupby('Mouse ID').max()['Timepoint']\n",
    "# greatest_cef = ceftamin.groupby('Mouse ID').max()['Timepoint']\n",
    "\n",
    "# #convert each to a data frame\n",
    "# df_cap = pd.DataFrame(greatest_cap)\n",
    "# df_cap\n",
    "# df_ram = pd.DataFrame(greatest_ram)\n",
    "# df_ram\n",
    "# df_inf = pd.DataFrame(greatest_inf)\n",
    "# df_cef = pd.DataFrame(greatest_cef)\n",
    "# df_cef\n",
    "\n",
    "# # Merge this group df with the original dataframe to get the tumor volume at the last timepoint\n",
    "# cap_merge = pd.merge(new_df, df_cap, on=('Mouse ID', 'Timepoint'), how='right')\n",
    "# cap_merge.head()\n",
    "\n",
    "# ram_merge = pd.merge(new_df, df_ram, on=('Mouse ID', 'Timepoint'), how='right')\n",
    "# ram_merge.head()\n",
    "\n",
    "# inf_merge = pd.merge(new_df, df_inf, on=('Mouse ID', 'Timepoint'), how='right')\n",
    "# inf_merge.head()\n",
    "\n",
    "# cef_merge = pd.merge(new_df, df_cef, on=('Mouse ID', 'Timepoint'), how='right')\n",
    "# cef_merge.head()\n",
    "\n",
    "# #concat all dataframes together \n",
    "# total_merge = pd.concat([cap_merge, ram_merge, inf_merge, cef_merge])\n",
    "\n",
    "# total_merge\n",
    "\n",
    "#ATTEMPT NUMBER THREE (ugh)\n",
    "\n",
    "# Calculate the final tumor volume of each mouse across four of the treatment regimens:  \n",
    "# Capomulin, Ramicane, Infubinol, and Ceftamin\n",
    "# something_new = single_mouse[single_mouse['Drug Regimen'].isin(['Capomulin', 'Ramicane', 'Infubinol', 'Ceftamin'])]\n",
    "\n",
    "# something_new\n",
    "\n",
    "capomulin = single_mouse['Drug Regimen'] == 'Capomulin'\n",
    "capomulin_values = single_mouse[capomulin]\n",
    "capomulin_values.head()\n",
    "\n",
    "ramicane = single_mouse['Drug Regimen'] == 'Ramicane'\n",
    "ramicane_values = single_mouse[ramicane]\n",
    "ramicane_values.head()\n",
    "\n",
    "infubinol = single_mouse['Drug Regimen'] == 'Infubinol'\n",
    "infubinol_values = single_mouse[infubinol]\n",
    "infubinol_values.head()\n",
    "\n",
    "ceftamin = single_mouse['Drug Regimen'] == 'Ceftamin'\n",
    "ceftamin_values = single_mouse[ceftamin]\n",
    "ceftamin_values.head()\n",
    "\n",
    "# Start by getting the last (greatest) timepoint for each mouse\n",
    "cap_id = capomulin_values.groupby(['Mouse ID']).max()\n",
    "cap_id.head()\n",
    "\n",
    "ram_id = ramicane_values.groupby(['Mouse ID']).max()\n",
    "ram_id.head()\n",
    "\n",
    "inf_id = infubinol_values.groupby(['Mouse ID']).max()\n",
    "inf_id.head()\n",
    "\n",
    "cef_id = ceftamin_values.groupby(['Mouse ID']).max()\n",
    "cef_id.head()\n",
    "\n",
    "# Merge this group df with the original dataframe to get the tumor volume at the last timepoint\n",
    "cap_DF = cap_id.loc[:,['Drug Regimen', 'Timepoint', 'Tumor Volume (mm3)']]\n",
    "\n",
    "ram_DF = ram_id.loc[:,['Drug Regimen', 'Timepoint', 'Tumor Volume (mm3)']]\n",
    "\n",
    "inf_DF = inf_id.loc[:,['Drug Regimen', 'Timepoint', 'Tumor Volume (mm3)']]\n",
    "\n",
    "cef_DF = cef_id.loc[:,['Drug Regimen', 'Timepoint', 'Tumor Volume (mm3)']]\n",
    "\n",
    "cap_DF.head()\n",
    "ram_DF.head()\n",
    "inf_DF.head()\n",
    "cef_DF.head()\n",
    "\n",
    "first_merge = pd.concat([cap_DF, ram_DF])\n",
    "second_merge = pd.concat([first_merge, inf_DF])\n",
    "final_merge = pd.concat([second_merge, cef_DF])\n",
    "final_merge\n",
    "\n"
   ]
  },
  {
   "cell_type": "code",
   "execution_count": 150,
   "metadata": {},
   "outputs": [],
   "source": [
    "# Put treatments into a list for for loop (and later for plot labels)\n",
    "treatments = ['Capomulin', 'Ramicane', 'Infubinol', 'Ceftamin']\n",
    "\n",
    "# Create empty list to fill with tumor vol data (for plotting)\n",
    "\n",
    "tumor_volume_cap = cap_DF[['Tumor Volume (mm3)']]\n",
    "# numpy_cap = tumor_volume_cap.to_numpy()\n",
    "\n",
    "tumor_volume_ram = ram_DF[['Tumor Volume (mm3)']]\n",
    "# ram_numpy = tumor_volume_ram.to_numpy()\n",
    "\n",
    "tumor_volume_inf = inf_DF[['Tumor Volume (mm3)']]\n",
    "# inf_numpy = tumor_volume_inf.to_numpy()\n",
    "\n",
    "tumor_volume_cef = cef_DF[['Tumor Volume (mm3)']]\n",
    "# cef_numpy = tumor_volume_cef.to_numpy()\n",
    "\n",
    "\n",
    "# Calculate the IQR and quantitatively determine if there are any potential outliers. \n",
    "#Capomullin\n",
    "tumor_cap = cap_DF[['Tumor Volume (mm3)']]\n",
    "cap_tum_vol = tumor_cap.reset_index()\n",
    "\n",
    "cap_vol = cap_tum_vol['Tumor Volume (mm3)']\n",
    "capquant = cap_vol.quantile([0.25, 0.5, 0.75])\n",
    "capq1 = capquant[0.25]\n",
    "capq3 = capquant[0.75]\n",
    "cap_iqr = capq3-capq1\n",
    "\n",
    "#Ramicane\n",
    "tumor_ram = ram_DF[['Tumor Volume (mm3)']]\n",
    "ram_tum_vol = tumor_ram.reset_index()\n",
    "\n",
    "ram_vol = ram_tum_vol['Tumor Volume (mm3)']\n",
    "ramquant = ram_vol.quantile([0.25, 0.5, 0.75])\n",
    "ramq1 = ramquant[0.25]\n",
    "ramq3 = ramquant[0.75]\n",
    "ram_iqr = ramq3-ramq1\n",
    "\n",
    "#Infubinol\n",
    "tumor_inf = inf_DF[['Tumor Volume (mm3)']]\n",
    "inf_tum_vol = tumor_inf.reset_index()\n",
    "\n",
    "inf_vol = inf_tum_vol['Tumor Volume (mm3)']\n",
    "infquant = inf_vol.quantile([0.25, 0.5, 0.75])\n",
    "infq1 = infquant[0.25]\n",
    "infq3 = infquant[0.75]\n",
    "inf_iqr = infq3-infq1\n",
    "\n",
    "# print(f\"The lower quartile of tumor volume is: {capq1}\")\n",
    "# print(f\"The upper quartile of tumor volume is: {capq3}\")\n",
    "# print(f\"The interquartile range of tumor volume is: {cap_iqr}\")\n",
    "# print(f\"The the median of tumor volume is: {capquant[0.5]} \")\n",
    "\n",
    "# #calculate outliers\n",
    "# cap_lower_b = capq1 - (1.5*cap_iqr)\n",
    "# cap_upper_b = capq3 + (1.5*cap_iqr)\n",
    "\n",
    "# print(f\"Values below {cap_lower_b} could be outliers.\")\n",
    "# print(f\"Values above {cap_upper_b} could be outliers.\")\n",
    "\n",
    "    # Locate the rows which contain mice on each drug and get the tumor volumes\n",
    "    \n",
    "    \n",
    "    # add subset \n",
    "    \n",
    "    \n",
    "    # Determine outliers using upper and lower bounds\n",
    "# outliers = cap_vol.loc[(cap_vol < cap_lower_b) | (cap_vol > cap_upper_b)]\n",
    "# print(outliers)\n"
   ]
  },
  {
   "cell_type": "code",
   "execution_count": null,
   "metadata": {},
   "outputs": [],
   "source": []
  },
  {
   "cell_type": "code",
   "execution_count": null,
   "metadata": {},
   "outputs": [],
   "source": []
  },
  {
   "cell_type": "code",
   "execution_count": null,
   "metadata": {},
   "outputs": [],
   "source": []
  },
  {
   "cell_type": "code",
   "execution_count": 145,
   "metadata": {},
   "outputs": [
    {
     "data": {
      "text/plain": [
       "Text(0, 0.5, 'Tumor Volume (mm3)')"
      ]
     },
     "execution_count": 145,
     "metadata": {},
     "output_type": "execute_result"
    },
    {
     "data": {
      "image/png": "[encoded data removed]",
      "text/plain": [
       "<Figure size 720x360 with 1 Axes>"
      ]
     },
     "metadata": {
      "needs_background": "light"
     },
     "output_type": "display_data"
    }
   ],
   "source": [
    "# Generate a box plot of the final tumor volume of each mouse across four regimens of interest\n",
    "\n",
    "plt.figure(figsize=(10,5))\n",
    "plt.boxplot(cap_vol)\n",
    "plt.title('Drug Regimen Capomullin and Tumor Volume')\n",
    "plt.ylabel('Tumor Volume (mm3)')"
   ]
  },
  {
   "cell_type": "markdown",
   "metadata": {},
   "source": [
    "## Line and Scatter Plots"
   ]
  },
  {
   "cell_type": "code",
   "execution_count": 16,
   "metadata": {},
   "outputs": [],
   "source": [
    "# Generate a line plot of time point versus tumor volume for a mouse treated with Capomulin\n"
   ]
  },
  {
   "cell_type": "code",
   "execution_count": 17,
   "metadata": {},
   "outputs": [],
   "source": [
    "# Generate a scatter plot of mouse weight versus average tumor volume for the Capomulin regimen\n"
   ]
  },
  {
   "cell_type": "markdown",
   "metadata": {},
   "source": [
    "## Correlation and Regression"
   ]
  },
  {
   "cell_type": "code",
   "execution_count": 18,
   "metadata": {},
   "outputs": [],
   "source": [
    "# Calculate the correlation coefficient and linear regression model \n",
    "# for mouse weight and average tumor volume for the Capomulin regimen\n"
   ]
  },
  {
   "cell_type": "code",
   "execution_count": null,
   "metadata": {},
   "outputs": [],
   "source": []
  }
 ],
 "metadata": {
  "anaconda-cloud": {},
  "kernelspec": {
   "display_name": "Python 3",
   "language": "python",
   "name": "python3"
  },
  "language_info": {
   "codemirror_mode": {
    "name": "ipython",
    "version": 3
   },
   "file_extension": ".py",
   "mimetype": "text/x-python",
   "name": "python",
   "nbconvert_exporter": "python",
   "pygments_lexer": "ipython3",
   "version": "3.7.6"
  }
 },
 "nbformat": 4,
 "nbformat_minor": 2
}
