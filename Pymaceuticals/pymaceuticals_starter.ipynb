{
 "cells": [
  {
   "cell_type": "markdown",
   "metadata": {},
   "source": [
    "## Observations and Insights "
   ]
  },
  {
   "cell_type": "markdown",
   "metadata": {},
   "source": []
  },
  {
   "cell_type": "markdown",
   "metadata": {},
   "source": [
    "## Three Observations based on Data:\n",
    "\n",
    "1. Based on the Bar Graph, the amount of mice that were tested per drug regimen are not equal, with the most mice being tested for Capomulin and Ramicane, the least for Propiva.\n",
    "\n",
    "2. Based on the line graph, it looks like for the specific mouse, B316, the drug Capomulin had decreased the tumor volume aft\n",
    "\n",
    "3. Finally, based on the scatter plot, we do see a relationship between the weight of the mice and their average tumor volume. It looks like as the weight increases, so does their tumor volume. "
   ]
  },
  {
   "cell_type": "code",
   "execution_count": 96,
   "metadata": {},
   "outputs": [
    {
     "name": "stdout",
     "output_type": "stream",
     "text": [
      "Data Shape Mouse Meta Data: (249, 5)\n",
      "Data Shape Study Results: (1893, 4)\n"
     ]
    }
   ],
   "source": [
    "# Dependencies and Setup\n",
    "import matplotlib.pyplot as plt\n",
    "import pandas as pd\n",
    "import scipy.stats as sts\n",
    "import numpy as np\n",
    "from scipy.stats import linregress\n",
    "\n",
    "# Study data files\n",
    "mouse_metadata_path = \"data/Mouse_metadata.csv\"\n",
    "study_results_path = \"data/Study_results.csv\"\n",
    "\n",
    "# Read the mouse data and the study results\n",
    "mouse_metadata = pd.read_csv(mouse_metadata_path)\n",
    "study_results = pd.read_csv(study_results_path)\n",
    "\n",
    "#print results from each csv\n",
    "print(f\"Data Shape Mouse Meta Data: {mouse_metadata.shape}\")\n",
    "print(f\"Data Shape Study Results: {study_results.shape}\")\n"
   ]
  },
  {
   "cell_type": "code",
   "execution_count": 97,
   "metadata": {},
   "outputs": [
    {
     "data": {
      "text/html": [
       "<div>\n",
       "<style scoped>\n",
       "    .dataframe tbody tr th:only-of-type {\n",
       "        vertical-align: middle;\n",
       "    }\n",
       "\n",
       "    .dataframe tbody tr th {\n",
       "        vertical-align: top;\n",
       "    }\n",
       "\n",
       "    .dataframe thead th {\n",
       "        text-align: right;\n",
       "    }\n",
       "</style>\n",
       "<table border=\"1\" class=\"dataframe\">\n",
       "  <thead>\n",
       "    <tr style=\"text-align: right;\">\n",
       "      <th></th>\n",
       "      <th>Mouse ID</th>\n",
       "      <th>Drug Regimen</th>\n",
       "      <th>Sex</th>\n",
       "      <th>Age_months</th>\n",
       "      <th>Weight (g)</th>\n",
       "      <th>Timepoint</th>\n",
       "      <th>Tumor Volume (mm3)</th>\n",
       "      <th>Metastatic Sites</th>\n",
       "    </tr>\n",
       "  </thead>\n",
       "  <tbody>\n",
       "    <tr>\n",
       "      <th>0</th>\n",
       "      <td>k403</td>\n",
       "      <td>Ramicane</td>\n",
       "      <td>Male</td>\n",
       "      <td>21</td>\n",
       "      <td>16</td>\n",
       "      <td>0</td>\n",
       "      <td>45.000000</td>\n",
       "      <td>0</td>\n",
       "    </tr>\n",
       "    <tr>\n",
       "      <th>1</th>\n",
       "      <td>k403</td>\n",
       "      <td>Ramicane</td>\n",
       "      <td>Male</td>\n",
       "      <td>21</td>\n",
       "      <td>16</td>\n",
       "      <td>5</td>\n",
       "      <td>38.825898</td>\n",
       "      <td>0</td>\n",
       "    </tr>\n",
       "    <tr>\n",
       "      <th>2</th>\n",
       "      <td>k403</td>\n",
       "      <td>Ramicane</td>\n",
       "      <td>Male</td>\n",
       "      <td>21</td>\n",
       "      <td>16</td>\n",
       "      <td>10</td>\n",
       "      <td>35.014271</td>\n",
       "      <td>1</td>\n",
       "    </tr>\n",
       "    <tr>\n",
       "      <th>3</th>\n",
       "      <td>k403</td>\n",
       "      <td>Ramicane</td>\n",
       "      <td>Male</td>\n",
       "      <td>21</td>\n",
       "      <td>16</td>\n",
       "      <td>15</td>\n",
       "      <td>34.223992</td>\n",
       "      <td>1</td>\n",
       "    </tr>\n",
       "    <tr>\n",
       "      <th>4</th>\n",
       "      <td>k403</td>\n",
       "      <td>Ramicane</td>\n",
       "      <td>Male</td>\n",
       "      <td>21</td>\n",
       "      <td>16</td>\n",
       "      <td>20</td>\n",
       "      <td>32.997729</td>\n",
       "      <td>1</td>\n",
       "    </tr>\n",
       "  </tbody>\n",
       "</table>\n",
       "</div>"
      ],
      "text/plain": [
       "  Mouse ID Drug Regimen   Sex  Age_months  Weight (g)  Timepoint  \\\n",
       "0     k403     Ramicane  Male          21          16          0   \n",
       "1     k403     Ramicane  Male          21          16          5   \n",
       "2     k403     Ramicane  Male          21          16         10   \n",
       "3     k403     Ramicane  Male          21          16         15   \n",
       "4     k403     Ramicane  Male          21          16         20   \n",
       "\n",
       "   Tumor Volume (mm3)  Metastatic Sites  \n",
       "0           45.000000                 0  \n",
       "1           38.825898                 0  \n",
       "2           35.014271                 1  \n",
       "3           34.223992                 1  \n",
       "4           32.997729                 1  "
      ]
     },
     "execution_count": 97,
     "metadata": {},
     "output_type": "execute_result"
    }
   ],
   "source": [
    "# Combine the data into a single dataset\n",
    "\n",
    "new_df = pd.merge(mouse_metadata, study_results, how=\"outer\", on='Mouse ID', )\n",
    "\n",
    "# Display the data table for preview\n",
    "\n",
    "new_df.head()"
   ]
  },
  {
   "cell_type": "code",
   "execution_count": 98,
   "metadata": {},
   "outputs": [
    {
     "data": {
      "text/plain": [
       "1893"
      ]
     },
     "execution_count": 98,
     "metadata": {},
     "output_type": "execute_result"
    }
   ],
   "source": [
    "# Checking the number of mice.\n",
    "mice_count = new_df['Mouse ID'].count()\n",
    "\n",
    "mice_count"
   ]
  },
  {
   "cell_type": "code",
   "execution_count": 5,
   "metadata": {},
   "outputs": [],
   "source": [
    "# Getting the duplicate mice by ID number that shows up for Mouse ID and Timepoint. \n",
    "# new_df.duplicated(subset=['Mouse ID', 'Timepoint']), 'Mouse ID'\n",
    "new_df.loc[new_df.duplicated(subset=['Mouse ID', 'Timepoint']), 'Mouse ID']\n",
    "\n",
    "duplicate_mice = new_df.loc[new_df.duplicated(subset=['Mouse ID', 'Timepoint']), 'Mouse ID'].unique()\n",
    "\n"
   ]
  },
  {
   "cell_type": "code",
   "execution_count": 6,
   "metadata": {},
   "outputs": [
    {
     "name": "stdout",
     "output_type": "stream",
     "text": [
      "['g989']\n"
     ]
    }
   ],
   "source": [
    "# Optional: Get all the data for the duplicate mouse ID. \n",
    "\n",
    "print(duplicate_mice)\n"
   ]
  },
  {
   "cell_type": "code",
   "execution_count": 7,
   "metadata": {},
   "outputs": [
    {
     "data": {
      "text/plain": [
       "1880"
      ]
     },
     "execution_count": 7,
     "metadata": {},
     "output_type": "execute_result"
    }
   ],
   "source": [
    "# Create a clean DataFrame by dropping the duplicate mouse by its ID.\n",
    "\n",
    "single_mouse = new_df[new_df['Mouse ID'].isin(duplicate_mice)==False]\n",
    "\n",
    "single_mouse['Mouse ID'].count()"
   ]
  },
  {
   "cell_type": "code",
   "execution_count": 8,
   "metadata": {},
   "outputs": [
    {
     "data": {
      "text/plain": [
       "248"
      ]
     },
     "execution_count": 8,
     "metadata": {},
     "output_type": "execute_result"
    }
   ],
   "source": [
    "# Checking the number of mice in the clean DataFrame.\n",
    "count_mice = single_mouse.groupby('Mouse ID')\n",
    "\n",
    "total_mice = len(count_mice)\n",
    "\n",
    "total_mice"
   ]
  },
  {
   "cell_type": "markdown",
   "metadata": {},
   "source": [
    "## Summary Statistics"
   ]
  },
  {
   "cell_type": "code",
   "execution_count": 9,
   "metadata": {},
   "outputs": [
    {
     "data": {
      "text/html": [
       "<div>\n",
       "<style scoped>\n",
       "    .dataframe tbody tr th:only-of-type {\n",
       "        vertical-align: middle;\n",
       "    }\n",
       "\n",
       "    .dataframe tbody tr th {\n",
       "        vertical-align: top;\n",
       "    }\n",
       "\n",
       "    .dataframe thead th {\n",
       "        text-align: right;\n",
       "    }\n",
       "</style>\n",
       "<table border=\"1\" class=\"dataframe\">\n",
       "  <thead>\n",
       "    <tr style=\"text-align: right;\">\n",
       "      <th></th>\n",
       "      <th>mean</th>\n",
       "      <th>median</th>\n",
       "      <th>var</th>\n",
       "      <th>std</th>\n",
       "      <th>sem</th>\n",
       "    </tr>\n",
       "    <tr>\n",
       "      <th>Drug Regimen</th>\n",
       "      <th></th>\n",
       "      <th></th>\n",
       "      <th></th>\n",
       "      <th></th>\n",
       "      <th></th>\n",
       "    </tr>\n",
       "  </thead>\n",
       "  <tbody>\n",
       "    <tr>\n",
       "      <th>Capomulin</th>\n",
       "      <td>40.675741</td>\n",
       "      <td>41.557809</td>\n",
       "      <td>24.947764</td>\n",
       "      <td>4.994774</td>\n",
       "      <td>0.329346</td>\n",
       "    </tr>\n",
       "    <tr>\n",
       "      <th>Ceftamin</th>\n",
       "      <td>52.591172</td>\n",
       "      <td>51.776157</td>\n",
       "      <td>39.290177</td>\n",
       "      <td>6.268188</td>\n",
       "      <td>0.469821</td>\n",
       "    </tr>\n",
       "    <tr>\n",
       "      <th>Infubinol</th>\n",
       "      <td>52.884795</td>\n",
       "      <td>51.820584</td>\n",
       "      <td>43.128684</td>\n",
       "      <td>6.567243</td>\n",
       "      <td>0.492236</td>\n",
       "    </tr>\n",
       "    <tr>\n",
       "      <th>Ketapril</th>\n",
       "      <td>55.235638</td>\n",
       "      <td>53.698743</td>\n",
       "      <td>68.553577</td>\n",
       "      <td>8.279709</td>\n",
       "      <td>0.603860</td>\n",
       "    </tr>\n",
       "    <tr>\n",
       "      <th>Naftisol</th>\n",
       "      <td>54.331565</td>\n",
       "      <td>52.509285</td>\n",
       "      <td>66.173479</td>\n",
       "      <td>8.134708</td>\n",
       "      <td>0.596466</td>\n",
       "    </tr>\n",
       "    <tr>\n",
       "      <th>Placebo</th>\n",
       "      <td>54.033581</td>\n",
       "      <td>52.288934</td>\n",
       "      <td>61.168083</td>\n",
       "      <td>7.821003</td>\n",
       "      <td>0.581331</td>\n",
       "    </tr>\n",
       "    <tr>\n",
       "      <th>Propriva</th>\n",
       "      <td>52.320930</td>\n",
       "      <td>50.446266</td>\n",
       "      <td>43.852013</td>\n",
       "      <td>6.622085</td>\n",
       "      <td>0.544332</td>\n",
       "    </tr>\n",
       "    <tr>\n",
       "      <th>Ramicane</th>\n",
       "      <td>40.216745</td>\n",
       "      <td>40.673236</td>\n",
       "      <td>23.486704</td>\n",
       "      <td>4.846308</td>\n",
       "      <td>0.320955</td>\n",
       "    </tr>\n",
       "    <tr>\n",
       "      <th>Stelasyn</th>\n",
       "      <td>54.233149</td>\n",
       "      <td>52.431737</td>\n",
       "      <td>59.450562</td>\n",
       "      <td>7.710419</td>\n",
       "      <td>0.573111</td>\n",
       "    </tr>\n",
       "    <tr>\n",
       "      <th>Zoniferol</th>\n",
       "      <td>53.236507</td>\n",
       "      <td>51.818479</td>\n",
       "      <td>48.533355</td>\n",
       "      <td>6.966589</td>\n",
       "      <td>0.516398</td>\n",
       "    </tr>\n",
       "  </tbody>\n",
       "</table>\n",
       "</div>"
      ],
      "text/plain": [
       "                   mean     median        var       std       sem\n",
       "Drug Regimen                                                     \n",
       "Capomulin     40.675741  41.557809  24.947764  4.994774  0.329346\n",
       "Ceftamin      52.591172  51.776157  39.290177  6.268188  0.469821\n",
       "Infubinol     52.884795  51.820584  43.128684  6.567243  0.492236\n",
       "Ketapril      55.235638  53.698743  68.553577  8.279709  0.603860\n",
       "Naftisol      54.331565  52.509285  66.173479  8.134708  0.596466\n",
       "Placebo       54.033581  52.288934  61.168083  7.821003  0.581331\n",
       "Propriva      52.320930  50.446266  43.852013  6.622085  0.544332\n",
       "Ramicane      40.216745  40.673236  23.486704  4.846308  0.320955\n",
       "Stelasyn      54.233149  52.431737  59.450562  7.710419  0.573111\n",
       "Zoniferol     53.236507  51.818479  48.533355  6.966589  0.516398"
      ]
     },
     "execution_count": 9,
     "metadata": {},
     "output_type": "execute_result"
    }
   ],
   "source": [
    "# Generate a summary statistics table of mean, median, variance, standard deviation, and SEM of the tumor volume for each regimen\n",
    "\n",
    "# This method produces everything in a single groupby function\n",
    "\n",
    "summary_stats_1 = single_mouse.groupby('Drug Regimen')\n",
    "first_table = summary_stats_1.agg(['mean', 'median', 'var','std', 'sem'])['Tumor Volume (mm3)']\n",
    "first_table"
   ]
  },
  {
   "cell_type": "code",
   "execution_count": 10,
   "metadata": {},
   "outputs": [
    {
     "data": {
      "text/html": [
       "<div>\n",
       "<style scoped>\n",
       "    .dataframe tbody tr th:only-of-type {\n",
       "        vertical-align: middle;\n",
       "    }\n",
       "\n",
       "    .dataframe tbody tr th {\n",
       "        vertical-align: top;\n",
       "    }\n",
       "\n",
       "    .dataframe thead th {\n",
       "        text-align: right;\n",
       "    }\n",
       "</style>\n",
       "<table border=\"1\" class=\"dataframe\">\n",
       "  <thead>\n",
       "    <tr style=\"text-align: right;\">\n",
       "      <th></th>\n",
       "      <th>Mean</th>\n",
       "      <th>Median</th>\n",
       "      <th>Variance</th>\n",
       "      <th>St Dev</th>\n",
       "      <th>SEM</th>\n",
       "    </tr>\n",
       "    <tr>\n",
       "      <th>Drug Regimen</th>\n",
       "      <th></th>\n",
       "      <th></th>\n",
       "      <th></th>\n",
       "      <th></th>\n",
       "      <th></th>\n",
       "    </tr>\n",
       "  </thead>\n",
       "  <tbody>\n",
       "    <tr>\n",
       "      <th>Capomulin</th>\n",
       "      <td>40.675741</td>\n",
       "      <td>41.557809</td>\n",
       "      <td>24.947764</td>\n",
       "      <td>4.994774</td>\n",
       "      <td>0.329346</td>\n",
       "    </tr>\n",
       "    <tr>\n",
       "      <th>Ceftamin</th>\n",
       "      <td>52.591172</td>\n",
       "      <td>51.776157</td>\n",
       "      <td>39.290177</td>\n",
       "      <td>6.268188</td>\n",
       "      <td>0.469821</td>\n",
       "    </tr>\n",
       "    <tr>\n",
       "      <th>Infubinol</th>\n",
       "      <td>52.884795</td>\n",
       "      <td>51.820584</td>\n",
       "      <td>43.128684</td>\n",
       "      <td>6.567243</td>\n",
       "      <td>0.492236</td>\n",
       "    </tr>\n",
       "    <tr>\n",
       "      <th>Ketapril</th>\n",
       "      <td>55.235638</td>\n",
       "      <td>53.698743</td>\n",
       "      <td>68.553577</td>\n",
       "      <td>8.279709</td>\n",
       "      <td>0.603860</td>\n",
       "    </tr>\n",
       "    <tr>\n",
       "      <th>Naftisol</th>\n",
       "      <td>54.331565</td>\n",
       "      <td>52.509285</td>\n",
       "      <td>66.173479</td>\n",
       "      <td>8.134708</td>\n",
       "      <td>0.596466</td>\n",
       "    </tr>\n",
       "    <tr>\n",
       "      <th>Placebo</th>\n",
       "      <td>54.033581</td>\n",
       "      <td>52.288934</td>\n",
       "      <td>61.168083</td>\n",
       "      <td>7.821003</td>\n",
       "      <td>0.581331</td>\n",
       "    </tr>\n",
       "    <tr>\n",
       "      <th>Propriva</th>\n",
       "      <td>52.320930</td>\n",
       "      <td>50.446266</td>\n",
       "      <td>43.852013</td>\n",
       "      <td>6.622085</td>\n",
       "      <td>0.544332</td>\n",
       "    </tr>\n",
       "    <tr>\n",
       "      <th>Ramicane</th>\n",
       "      <td>40.216745</td>\n",
       "      <td>40.673236</td>\n",
       "      <td>23.486704</td>\n",
       "      <td>4.846308</td>\n",
       "      <td>0.320955</td>\n",
       "    </tr>\n",
       "    <tr>\n",
       "      <th>Stelasyn</th>\n",
       "      <td>54.233149</td>\n",
       "      <td>52.431737</td>\n",
       "      <td>59.450562</td>\n",
       "      <td>7.710419</td>\n",
       "      <td>0.573111</td>\n",
       "    </tr>\n",
       "    <tr>\n",
       "      <th>Zoniferol</th>\n",
       "      <td>53.236507</td>\n",
       "      <td>51.818479</td>\n",
       "      <td>48.533355</td>\n",
       "      <td>6.966589</td>\n",
       "      <td>0.516398</td>\n",
       "    </tr>\n",
       "  </tbody>\n",
       "</table>\n",
       "</div>"
      ],
      "text/plain": [
       "                   Mean     Median   Variance    St Dev       SEM\n",
       "Drug Regimen                                                     \n",
       "Capomulin     40.675741  41.557809  24.947764  4.994774  0.329346\n",
       "Ceftamin      52.591172  51.776157  39.290177  6.268188  0.469821\n",
       "Infubinol     52.884795  51.820584  43.128684  6.567243  0.492236\n",
       "Ketapril      55.235638  53.698743  68.553577  8.279709  0.603860\n",
       "Naftisol      54.331565  52.509285  66.173479  8.134708  0.596466\n",
       "Placebo       54.033581  52.288934  61.168083  7.821003  0.581331\n",
       "Propriva      52.320930  50.446266  43.852013  6.622085  0.544332\n",
       "Ramicane      40.216745  40.673236  23.486704  4.846308  0.320955\n",
       "Stelasyn      54.233149  52.431737  59.450562  7.710419  0.573111\n",
       "Zoniferol     53.236507  51.818479  48.533355  6.966589  0.516398"
      ]
     },
     "execution_count": 10,
     "metadata": {},
     "output_type": "execute_result"
    }
   ],
   "source": [
    "# Generate a summary statistics table of mean, median, variance, standard deviation, and SEM of the tumor volume for each regimen\n",
    "\n",
    "# This method is the most straighforward, creating multiple series and putting them all together at the end.\n",
    "\n",
    "group_mean = single_mouse.groupby('Drug Regimen').mean()['Tumor Volume (mm3)']\n",
    "group_median = single_mouse.groupby('Drug Regimen').median()['Tumor Volume (mm3)']\n",
    "group_var = single_mouse.groupby('Drug Regimen').var()['Tumor Volume (mm3)']\n",
    "group_std = single_mouse.groupby('Drug Regimen').std()['Tumor Volume (mm3)']\n",
    "group_sem = single_mouse.groupby('Drug Regimen').sem()['Tumor Volume (mm3)']\n",
    "\n",
    "\n",
    "summary_stats = pd.DataFrame({'Mean': group_mean,\n",
    "                             'Median': group_median,\n",
    "                             'Variance': group_var,\n",
    "                             'St Dev': group_std,\n",
    "                             'SEM': group_sem})\n",
    "summary_stats"
   ]
  },
  {
   "cell_type": "markdown",
   "metadata": {},
   "source": [
    "# Bar and Pie Charts"
   ]
  },
  {
   "cell_type": "code",
   "execution_count": 11,
   "metadata": {},
   "outputs": [
    {
     "data": {
      "text/plain": [
       "Text(0, 0.5, 'Number of Mice')"
      ]
     },
     "execution_count": 11,
     "metadata": {},
     "output_type": "execute_result"
    },
    {
     "data": {
      "image/png": "[encoded data removed]",
      "text/plain": [
       "<Figure size 432x288 with 1 Axes>"
      ]
     },
     "metadata": {
      "needs_background": "light"
     },
     "output_type": "display_data"
    }
   ],
   "source": [
    "# Generate a bar plot showing the total number of mice for each treatment throughout the course of the study using pandas. \n",
    "\n",
    "#find the number of mice per drug regimen\n",
    "mice_per_treatment = single_mouse.groupby(['Drug Regimen']).count()['Mouse ID']\n",
    "\n",
    "#print the number of mice per treatment\n",
    "mice_per_treatment\n",
    "\n",
    "#plot using pandas \n",
    "mice_per_treatment.plot(kind='bar', color={'red'})\n",
    "\n",
    "#label data\n",
    "plt.title('Number of Mice per Drug Regimen')\n",
    "plt.ylabel('Number of Mice')\n",
    "\n",
    "#somehow the xaxis is already labeled?"
   ]
  },
  {
   "cell_type": "code",
   "execution_count": 12,
   "metadata": {},
   "outputs": [
    {
     "data": {
      "text/plain": [
       "Text(0.5, 0, 'Drug Regimen')"
      ]
     },
     "execution_count": 12,
     "metadata": {},
     "output_type": "execute_result"
    },
    {
     "data": {
      "image/png": "[encoded data removed]",
      "text/plain": [
       "<Figure size 432x288 with 1 Axes>"
      ]
     },
     "metadata": {
      "needs_background": "light"
     },
     "output_type": "display_data"
    }
   ],
   "source": [
    "# Generate a bar plot showing the total number of mice for each treatment throughout the course of the study using pyplot.\n",
    "\n",
    "#find the number of mice per drug regimen\n",
    "mice_per_treatment = single_mouse.groupby(['Drug Regimen']).count()['Mouse ID']\n",
    "\n",
    "#create an array \n",
    "users = mice_per_treatment\n",
    "users\n",
    "\n",
    "x_axis = np.arange(len(users))\n",
    "x_axis\n",
    "\n",
    "#plot the data to a bar graph\n",
    "plt.bar(x=x_axis, height=users, color='r', alpha=1, align='center')\n",
    "\n",
    "#label the bars\n",
    "plt.xticks(x_axis, ['Capomulin', 'Ceftamin', 'Infubinol', 'Ketapril', 'Naftisol', 'Placebo', 'Propriva',' Ramicane', 'Stelasyn', 'Zoniferol'], rotation=90)\n",
    "plt.title('Number of Mice per Drug Regimen')\n",
    "plt.ylabel('Number of Mice')\n",
    "plt.xlabel('Drug Regimen')"
   ]
  },
  {
   "cell_type": "code",
   "execution_count": 13,
   "metadata": {},
   "outputs": [
    {
     "data": {
      "text/plain": [
       "Text(0.5, 1.0, 'Gender Distribution of Mice')"
      ]
     },
     "execution_count": 13,
     "metadata": {},
     "output_type": "execute_result"
    },
    {
     "data": {
      "image/png": "[encoded data removed]",
      "text/plain": [
       "<Figure size 432x288 with 1 Axes>"
      ]
     },
     "metadata": {},
     "output_type": "display_data"
    }
   ],
   "source": [
    "# Generate a pie plot showing the distribution of female versus male mice using pandas\n",
    "\n",
    "#find the number of mice per gender\n",
    "mice_per_gender = single_mouse.groupby(['Sex']).count()['Mouse ID']\n",
    "\n",
    "mice_per_gender = single_mouse.groupby(['Sex']).count()['Mouse ID']\n",
    "\n",
    "mice_per_gender\n",
    "\n",
    "\n",
    "num_male = 958\n",
    "num_female = 922\n",
    "labels = ['Male', 'Female']\n",
    "\n",
    "counts = [num_male, num_female]\n",
    "\n",
    "#plot using pandas \n",
    "mice_per_gender.plot.pie(y='counts', labels=labels)\n",
    "\n",
    "plt.pie(counts, autopct='%1.1f%%')\n",
    "plt.title('Gender Distribution of Mice')\n",
    "\n"
   ]
  },
  {
   "cell_type": "code",
   "execution_count": 14,
   "metadata": {},
   "outputs": [
    {
     "data": {
      "text/plain": [
       "Text(0.5, 1.0, 'Gender Distribution of Mice')"
      ]
     },
     "execution_count": 14,
     "metadata": {},
     "output_type": "execute_result"
    },
    {
     "data": {
      "image/png": "[encoded data removed]",
      "text/plain": [
       "<Figure size 432x288 with 1 Axes>"
      ]
     },
     "metadata": {},
     "output_type": "display_data"
    }
   ],
   "source": [
    "# Generate a pie plot showing the distribution of female versus male mice using pyplot\n",
    "\n",
    "#find the number of mice per gender\n",
    "mice_per_gender = single_mouse.groupby(['Sex']).count()['Mouse ID']\n",
    "\n",
    "mice_per_gender\n",
    "\n",
    "labels = ['Male', 'Female']\n",
    "counts = [958, 922]\n",
    "colors = ['orange', 'blue'] \n",
    "\n",
    "#plot using pandas \n",
    "plt.pie(counts, labels=labels, autopct='%1.1f%%')\n",
    "\n",
    "plt.title('Gender Distribution of Mice')\n",
    "\n"
   ]
  },
  {
   "cell_type": "markdown",
   "metadata": {},
   "source": [
    "## Quartiles, Outliers and Boxplots"
   ]
  },
  {
   "cell_type": "code",
   "execution_count": 15,
   "metadata": {},
   "outputs": [],
   "source": [
    "# Calculate the final tumor volume of each mouse across four of the treatment regimens:  \n",
    "# Capomulin, Ramicane, Infubinol, and Ceftamin\n",
    "\n",
    "#grab data for each specific drug regimen  \n",
    "capomulin = single_mouse['Drug Regimen'] == 'Capomulin'\n",
    "capomulin_values = single_mouse[capomulin]\n",
    "capomulin_values.head()\n",
    "\n",
    "ramicane = single_mouse['Drug Regimen'] == 'Ramicane'\n",
    "ramicane_values = single_mouse[ramicane]\n",
    "ramicane_values.head()\n",
    "\n",
    "infubinol = single_mouse['Drug Regimen'] == 'Infubinol'\n",
    "infubinol_values = single_mouse[infubinol]\n",
    "infubinol_values.head()\n",
    "\n",
    "ceftamin = single_mouse['Drug Regimen'] == 'Ceftamin'\n",
    "ceftamin_values = single_mouse[ceftamin]\n",
    "ceftamin_values.head()\n",
    "\n",
    "# Start by getting the last (greatest) timepoint for each mouse\n",
    "cap_id = capomulin_values.groupby(['Mouse ID']).max()['Timepoint']\n",
    "cap_DF = pd.DataFrame(cap_id)\n",
    "\n",
    "ram_id = ramicane_values.groupby(['Mouse ID']).max()['Timepoint']\n",
    "ram_DF = pd.DataFrame(ram_id)\n",
    "\n",
    "inf_id = infubinol_values.groupby(['Mouse ID']).max()['Timepoint']\n",
    "inf_DF = pd.DataFrame(inf_id)\n",
    "\n",
    "cef_id = ceftamin_values.groupby(['Mouse ID']).max()['Timepoint']\n",
    "cef_DF = pd.DataFrame(cef_id)\n",
    "\n",
    "# Merge this group df with the original dataframe to get the tumor volume at the last timepoint\n",
    "\n",
    "merge_cap = pd.merge(cap_DF, single_mouse, on=['Mouse ID', 'Timepoint'], how='left' )\n",
    "\n",
    "merge_ram = pd.merge(ram_DF, single_mouse, on=['Mouse ID', 'Timepoint'], how='left')\n",
    "\n",
    "merge_inf = pd.merge(inf_DF, single_mouse, on=['Mouse ID', 'Timepoint'], how='left')\n",
    "\n",
    "merge_cef = pd.merge(cef_DF, single_mouse, on=['Mouse ID', 'Timepoint'], how='left')\n",
    "\n"
   ]
  },
  {
   "cell_type": "code",
   "execution_count": 16,
   "metadata": {},
   "outputs": [
    {
     "data": {
      "text/html": [
       "<div>\n",
       "<style scoped>\n",
       "    .dataframe tbody tr th:only-of-type {\n",
       "        vertical-align: middle;\n",
       "    }\n",
       "\n",
       "    .dataframe tbody tr th {\n",
       "        vertical-align: top;\n",
       "    }\n",
       "\n",
       "    .dataframe thead th {\n",
       "        text-align: right;\n",
       "    }\n",
       "</style>\n",
       "<table border=\"1\" class=\"dataframe\">\n",
       "  <thead>\n",
       "    <tr style=\"text-align: right;\">\n",
       "      <th></th>\n",
       "      <th>Mouse ID</th>\n",
       "      <th>Timepoint</th>\n",
       "      <th>Drug Regimen</th>\n",
       "      <th>Sex</th>\n",
       "      <th>Age_months</th>\n",
       "      <th>Weight (g)</th>\n",
       "      <th>Tumor Volume (mm3)</th>\n",
       "      <th>Metastatic Sites</th>\n",
       "    </tr>\n",
       "  </thead>\n",
       "  <tbody>\n",
       "    <tr>\n",
       "      <th>0</th>\n",
       "      <td>b128</td>\n",
       "      <td>45</td>\n",
       "      <td>Capomulin</td>\n",
       "      <td>Female</td>\n",
       "      <td>9</td>\n",
       "      <td>22</td>\n",
       "      <td>38.982878</td>\n",
       "      <td>2</td>\n",
       "    </tr>\n",
       "    <tr>\n",
       "      <th>1</th>\n",
       "      <td>b742</td>\n",
       "      <td>45</td>\n",
       "      <td>Capomulin</td>\n",
       "      <td>Male</td>\n",
       "      <td>7</td>\n",
       "      <td>21</td>\n",
       "      <td>38.939633</td>\n",
       "      <td>0</td>\n",
       "    </tr>\n",
       "    <tr>\n",
       "      <th>2</th>\n",
       "      <td>f966</td>\n",
       "      <td>20</td>\n",
       "      <td>Capomulin</td>\n",
       "      <td>Male</td>\n",
       "      <td>16</td>\n",
       "      <td>17</td>\n",
       "      <td>30.485985</td>\n",
       "      <td>0</td>\n",
       "    </tr>\n",
       "    <tr>\n",
       "      <th>3</th>\n",
       "      <td>g288</td>\n",
       "      <td>45</td>\n",
       "      <td>Capomulin</td>\n",
       "      <td>Male</td>\n",
       "      <td>3</td>\n",
       "      <td>19</td>\n",
       "      <td>37.074024</td>\n",
       "      <td>1</td>\n",
       "    </tr>\n",
       "    <tr>\n",
       "      <th>4</th>\n",
       "      <td>g316</td>\n",
       "      <td>45</td>\n",
       "      <td>Capomulin</td>\n",
       "      <td>Female</td>\n",
       "      <td>22</td>\n",
       "      <td>22</td>\n",
       "      <td>40.159220</td>\n",
       "      <td>2</td>\n",
       "    </tr>\n",
       "    <tr>\n",
       "      <th>5</th>\n",
       "      <td>i557</td>\n",
       "      <td>45</td>\n",
       "      <td>Capomulin</td>\n",
       "      <td>Female</td>\n",
       "      <td>1</td>\n",
       "      <td>24</td>\n",
       "      <td>47.685963</td>\n",
       "      <td>1</td>\n",
       "    </tr>\n",
       "    <tr>\n",
       "      <th>6</th>\n",
       "      <td>i738</td>\n",
       "      <td>45</td>\n",
       "      <td>Capomulin</td>\n",
       "      <td>Female</td>\n",
       "      <td>23</td>\n",
       "      <td>20</td>\n",
       "      <td>37.311846</td>\n",
       "      <td>2</td>\n",
       "    </tr>\n",
       "    <tr>\n",
       "      <th>7</th>\n",
       "      <td>j119</td>\n",
       "      <td>45</td>\n",
       "      <td>Capomulin</td>\n",
       "      <td>Female</td>\n",
       "      <td>7</td>\n",
       "      <td>23</td>\n",
       "      <td>38.125164</td>\n",
       "      <td>1</td>\n",
       "    </tr>\n",
       "    <tr>\n",
       "      <th>8</th>\n",
       "      <td>j246</td>\n",
       "      <td>35</td>\n",
       "      <td>Capomulin</td>\n",
       "      <td>Female</td>\n",
       "      <td>21</td>\n",
       "      <td>21</td>\n",
       "      <td>38.753265</td>\n",
       "      <td>1</td>\n",
       "    </tr>\n",
       "    <tr>\n",
       "      <th>9</th>\n",
       "      <td>l509</td>\n",
       "      <td>45</td>\n",
       "      <td>Capomulin</td>\n",
       "      <td>Male</td>\n",
       "      <td>17</td>\n",
       "      <td>21</td>\n",
       "      <td>41.483008</td>\n",
       "      <td>3</td>\n",
       "    </tr>\n",
       "    <tr>\n",
       "      <th>10</th>\n",
       "      <td>l897</td>\n",
       "      <td>45</td>\n",
       "      <td>Capomulin</td>\n",
       "      <td>Male</td>\n",
       "      <td>17</td>\n",
       "      <td>19</td>\n",
       "      <td>38.846876</td>\n",
       "      <td>1</td>\n",
       "    </tr>\n",
       "    <tr>\n",
       "      <th>11</th>\n",
       "      <td>m601</td>\n",
       "      <td>45</td>\n",
       "      <td>Capomulin</td>\n",
       "      <td>Male</td>\n",
       "      <td>22</td>\n",
       "      <td>17</td>\n",
       "      <td>28.430964</td>\n",
       "      <td>1</td>\n",
       "    </tr>\n",
       "    <tr>\n",
       "      <th>12</th>\n",
       "      <td>m957</td>\n",
       "      <td>45</td>\n",
       "      <td>Capomulin</td>\n",
       "      <td>Female</td>\n",
       "      <td>3</td>\n",
       "      <td>19</td>\n",
       "      <td>33.329098</td>\n",
       "      <td>1</td>\n",
       "    </tr>\n",
       "    <tr>\n",
       "      <th>13</th>\n",
       "      <td>r157</td>\n",
       "      <td>15</td>\n",
       "      <td>Capomulin</td>\n",
       "      <td>Male</td>\n",
       "      <td>22</td>\n",
       "      <td>25</td>\n",
       "      <td>46.539206</td>\n",
       "      <td>0</td>\n",
       "    </tr>\n",
       "    <tr>\n",
       "      <th>14</th>\n",
       "      <td>r554</td>\n",
       "      <td>45</td>\n",
       "      <td>Capomulin</td>\n",
       "      <td>Female</td>\n",
       "      <td>8</td>\n",
       "      <td>17</td>\n",
       "      <td>32.377357</td>\n",
       "      <td>3</td>\n",
       "    </tr>\n",
       "    <tr>\n",
       "      <th>15</th>\n",
       "      <td>r944</td>\n",
       "      <td>45</td>\n",
       "      <td>Capomulin</td>\n",
       "      <td>Male</td>\n",
       "      <td>12</td>\n",
       "      <td>25</td>\n",
       "      <td>41.581521</td>\n",
       "      <td>2</td>\n",
       "    </tr>\n",
       "    <tr>\n",
       "      <th>16</th>\n",
       "      <td>s185</td>\n",
       "      <td>45</td>\n",
       "      <td>Capomulin</td>\n",
       "      <td>Female</td>\n",
       "      <td>3</td>\n",
       "      <td>17</td>\n",
       "      <td>23.343598</td>\n",
       "      <td>1</td>\n",
       "    </tr>\n",
       "    <tr>\n",
       "      <th>17</th>\n",
       "      <td>s710</td>\n",
       "      <td>45</td>\n",
       "      <td>Capomulin</td>\n",
       "      <td>Female</td>\n",
       "      <td>1</td>\n",
       "      <td>23</td>\n",
       "      <td>40.728578</td>\n",
       "      <td>1</td>\n",
       "    </tr>\n",
       "    <tr>\n",
       "      <th>18</th>\n",
       "      <td>t565</td>\n",
       "      <td>45</td>\n",
       "      <td>Capomulin</td>\n",
       "      <td>Female</td>\n",
       "      <td>20</td>\n",
       "      <td>17</td>\n",
       "      <td>34.455298</td>\n",
       "      <td>0</td>\n",
       "    </tr>\n",
       "    <tr>\n",
       "      <th>19</th>\n",
       "      <td>u364</td>\n",
       "      <td>45</td>\n",
       "      <td>Capomulin</td>\n",
       "      <td>Male</td>\n",
       "      <td>18</td>\n",
       "      <td>17</td>\n",
       "      <td>31.023923</td>\n",
       "      <td>3</td>\n",
       "    </tr>\n",
       "    <tr>\n",
       "      <th>20</th>\n",
       "      <td>v923</td>\n",
       "      <td>45</td>\n",
       "      <td>Capomulin</td>\n",
       "      <td>Female</td>\n",
       "      <td>19</td>\n",
       "      <td>21</td>\n",
       "      <td>40.658124</td>\n",
       "      <td>2</td>\n",
       "    </tr>\n",
       "    <tr>\n",
       "      <th>21</th>\n",
       "      <td>w150</td>\n",
       "      <td>10</td>\n",
       "      <td>Capomulin</td>\n",
       "      <td>Male</td>\n",
       "      <td>23</td>\n",
       "      <td>23</td>\n",
       "      <td>39.952347</td>\n",
       "      <td>0</td>\n",
       "    </tr>\n",
       "    <tr>\n",
       "      <th>22</th>\n",
       "      <td>w914</td>\n",
       "      <td>45</td>\n",
       "      <td>Capomulin</td>\n",
       "      <td>Male</td>\n",
       "      <td>24</td>\n",
       "      <td>21</td>\n",
       "      <td>36.041047</td>\n",
       "      <td>2</td>\n",
       "    </tr>\n",
       "    <tr>\n",
       "      <th>23</th>\n",
       "      <td>x401</td>\n",
       "      <td>45</td>\n",
       "      <td>Capomulin</td>\n",
       "      <td>Female</td>\n",
       "      <td>16</td>\n",
       "      <td>15</td>\n",
       "      <td>28.484033</td>\n",
       "      <td>0</td>\n",
       "    </tr>\n",
       "    <tr>\n",
       "      <th>24</th>\n",
       "      <td>y793</td>\n",
       "      <td>45</td>\n",
       "      <td>Capomulin</td>\n",
       "      <td>Male</td>\n",
       "      <td>17</td>\n",
       "      <td>17</td>\n",
       "      <td>31.896238</td>\n",
       "      <td>2</td>\n",
       "    </tr>\n",
       "  </tbody>\n",
       "</table>\n",
       "</div>"
      ],
      "text/plain": [
       "   Mouse ID  Timepoint Drug Regimen     Sex  Age_months  Weight (g)  \\\n",
       "0      b128         45    Capomulin  Female           9          22   \n",
       "1      b742         45    Capomulin    Male           7          21   \n",
       "2      f966         20    Capomulin    Male          16          17   \n",
       "3      g288         45    Capomulin    Male           3          19   \n",
       "4      g316         45    Capomulin  Female          22          22   \n",
       "5      i557         45    Capomulin  Female           1          24   \n",
       "6      i738         45    Capomulin  Female          23          20   \n",
       "7      j119         45    Capomulin  Female           7          23   \n",
       "8      j246         35    Capomulin  Female          21          21   \n",
       "9      l509         45    Capomulin    Male          17          21   \n",
       "10     l897         45    Capomulin    Male          17          19   \n",
       "11     m601         45    Capomulin    Male          22          17   \n",
       "12     m957         45    Capomulin  Female           3          19   \n",
       "13     r157         15    Capomulin    Male          22          25   \n",
       "14     r554         45    Capomulin  Female           8          17   \n",
       "15     r944         45    Capomulin    Male          12          25   \n",
       "16     s185         45    Capomulin  Female           3          17   \n",
       "17     s710         45    Capomulin  Female           1          23   \n",
       "18     t565         45    Capomulin  Female          20          17   \n",
       "19     u364         45    Capomulin    Male          18          17   \n",
       "20     v923         45    Capomulin  Female          19          21   \n",
       "21     w150         10    Capomulin    Male          23          23   \n",
       "22     w914         45    Capomulin    Male          24          21   \n",
       "23     x401         45    Capomulin  Female          16          15   \n",
       "24     y793         45    Capomulin    Male          17          17   \n",
       "\n",
       "    Tumor Volume (mm3)  Metastatic Sites  \n",
       "0            38.982878                 2  \n",
       "1            38.939633                 0  \n",
       "2            30.485985                 0  \n",
       "3            37.074024                 1  \n",
       "4            40.159220                 2  \n",
       "5            47.685963                 1  \n",
       "6            37.311846                 2  \n",
       "7            38.125164                 1  \n",
       "8            38.753265                 1  \n",
       "9            41.483008                 3  \n",
       "10           38.846876                 1  \n",
       "11           28.430964                 1  \n",
       "12           33.329098                 1  \n",
       "13           46.539206                 0  \n",
       "14           32.377357                 3  \n",
       "15           41.581521                 2  \n",
       "16           23.343598                 1  \n",
       "17           40.728578                 1  \n",
       "18           34.455298                 0  \n",
       "19           31.023923                 3  \n",
       "20           40.658124                 2  \n",
       "21           39.952347                 0  \n",
       "22           36.041047                 2  \n",
       "23           28.484033                 0  \n",
       "24           31.896238                 2  "
      ]
     },
     "execution_count": 16,
     "metadata": {},
     "output_type": "execute_result"
    }
   ],
   "source": [
    "merge_cap"
   ]
  },
  {
   "cell_type": "code",
   "execution_count": 17,
   "metadata": {},
   "outputs": [],
   "source": [
    "# Put treatments into a list for for loop (and later for plot labels)\n",
    "treatments = ['Capomulin', 'Ramicane', 'Infubinol', 'Ceftamin']\n",
    "\n",
    "# Create empty list to fill with tumor vol data (for plotting)\n",
    "\n",
    "tumor_volume_cap = merge_cap[['Tumor Volume (mm3)']]\n",
    "tumor_volume_cap\n",
    "\n",
    "tumor_volume_ram = merge_ram[['Tumor Volume (mm3)']]\n",
    "tumor_volume_ram\n",
    "\n",
    "tumor_volume_inf = merge_inf[['Tumor Volume (mm3)']]\n",
    "tumor_volume_inf\n",
    "\n",
    "tumor_volume_cef = merge_cef[['Tumor Volume (mm3)']]\n",
    "tumor_volume_cef\n",
    "\n",
    "data = [tumor_volume_cap, tumor_volume_ram, tumor_volume_inf, tumor_volume_cef]\n"
   ]
  },
  {
   "cell_type": "code",
   "execution_count": null,
   "metadata": {},
   "outputs": [],
   "source": []
  },
  {
   "cell_type": "code",
   "execution_count": 18,
   "metadata": {},
   "outputs": [
    {
     "name": "stdout",
     "output_type": "stream",
     "text": [
      "7.781863460000004 11.477135160000003\n"
     ]
    }
   ],
   "source": [
    "# Calculate the IQR and quantitatively determine if there are any potential outliers. \n",
    "\n",
    "#CAPOMULIN\n",
    "cap_quants = tumor_volume_cap.quantile([0.25, 0.5, 0.75], axis = 0)\n",
    "cap_quants = cap_quants.reset_index()\n",
    "type(cap_quants.iloc[0])\n",
    "capq1 = cap_quants.iloc[0,1]\n",
    "capq2 = cap_quants.iloc[1,1]\n",
    "capq3 = cap_quants.iloc[2,1]\n",
    "\n",
    "capiqr = capq3-capq1\n",
    "\n",
    "capiqr\n",
    "\n",
    "#RAMICANE\n",
    "ram_quants = tumor_volume_ram.quantile([0.25, 0.5, 0.75], axis = 0)\n",
    "ram_quants = ram_quants.reset_index()\n",
    "type(ram_quants.iloc[0])\n",
    "ramq1 = ram_quants.iloc[0,1]\n",
    "ramq2 = ram_quants.iloc[1,1]\n",
    "ramq3 = ram_quants.iloc[2,1]\n",
    "\n",
    "ramiqr = ramq3-ramq1\n",
    "\n",
    "ramiqr\n",
    "\n",
    "#INFUBINOL\n",
    "inf_quants = tumor_volume_inf.quantile([0.25, 0.5, 0.75], axis = 0)\n",
    "inf_quants = inf_quants.reset_index()\n",
    "type(inf_quants.iloc[0])\n",
    "infq1 = inf_quants.iloc[0,1]\n",
    "infq2 = inf_quants.iloc[1,1]\n",
    "infq3 = inf_quants.iloc[2,1]\n",
    "\n",
    "infiqr = infq3-infq1\n",
    "\n",
    "infiqr\n",
    "\n",
    "#CEFTAMIN\n",
    "cef_quants = tumor_volume_cef.quantile([0.25, 0.5, 0.75], axis = 0)\n",
    "cef_quants = cef_quants.reset_index()\n",
    "type(cef_quants.iloc[0])\n",
    "cefq1 = cef_quants.iloc[0,1]\n",
    "cefq2 = cef_quants.iloc[1,1]\n",
    "cefq3 = cef_quants.iloc[2,1]\n",
    "\n",
    "cefiqr = cefq3-cefq1\n",
    "\n",
    "cefiqr\n",
    "\n",
    "print(capiqr, infiqr)"
   ]
  },
  {
   "cell_type": "code",
   "execution_count": 19,
   "metadata": {},
   "outputs": [
    {
     "name": "stdout",
     "output_type": "stream",
     "text": [
      "20.70456164999999\n",
      "51.83201549\n",
      "Series([], Name: Tumor Volume (mm3), dtype: float64)\n",
      "17.912664470000003\n",
      "54.30681135\n",
      "Series([], Name: Tumor Volume (mm3), dtype: float64)\n",
      "36.83290494999999\n",
      "82.74144559000001\n",
      "25.355449580000002\n",
      "87.66645829999999\n",
      "Series([], Name: Tumor Volume (mm3), dtype: float64)\n",
      "There are no outliers in Capomullin, Ramicane, and Ceftamin. The only outlier is found in Infubolin, which may be 5    36.321346\n",
      "Name: Tumor Volume (mm3), dtype: float64\n"
     ]
    }
   ],
   "source": [
    " # Locate the rows which contain mice on each drug and get the tumor volumes\n",
    "\n",
    "    # add subset \n",
    "    \n",
    "    \n",
    "    # Determine outliers using upper and lower bounds\n",
    "    \n",
    "#CAPOMULIN \n",
    "tumor_volume_cap.index\n",
    "\n",
    "cap_lb = capq1 - (1.5*capiqr)\n",
    "cap_ub = capq3 + (1.5*capiqr)\n",
    "\n",
    "print(cap_lb)\n",
    "print(cap_ub)\n",
    "\n",
    "# #determine outliers for capomulin\n",
    "cap_outliers = tumor_volume_cap['Tumor Volume (mm3)'].loc[(tumor_volume_cap['Tumor Volume (mm3)'] < cap_lb) | (tumor_volume_cap['Tumor Volume (mm3)'] > cap_ub)]\n",
    "print(cap_outliers)\n",
    "\n",
    "#RAMICANE\n",
    "ram_lb = ramq1 - (1.5*ramiqr)\n",
    "ram_ub = ramq3 + (1.5*ramiqr)\n",
    "\n",
    "print(ram_lb)\n",
    "print(ram_ub)\n",
    "\n",
    "ram_outliers = tumor_volume_ram['Tumor Volume (mm3)'].loc[(tumor_volume_ram['Tumor Volume (mm3)'] < ram_lb) | (tumor_volume_ram['Tumor Volume (mm3)'] > ram_ub)]\n",
    "print(ram_outliers)\n",
    "\n",
    "# #INFUBOLIN\n",
    "inf_lb = infq1 - (1.5*infiqr)\n",
    "inf_ub = infq3 + (1.5*infiqr)\n",
    "\n",
    "print(inf_lb)\n",
    "print(inf_ub)\n",
    "\n",
    "inf_outliers = tumor_volume_inf['Tumor Volume (mm3)'].loc[(tumor_volume_inf['Tumor Volume (mm3)'] < inf_lb) | (tumor_volume_inf['Tumor Volume (mm3)'] > inf_ub)]\n",
    "inf_outliers\n",
    "\n",
    "# #CEFTAMIN\n",
    "cef_lb = cefq1 - (1.5*cefiqr)\n",
    "cef_ub = cefq3 + (1.5*cefiqr)\n",
    "\n",
    "print(cef_lb)\n",
    "print(cef_ub)\n",
    "\n",
    "cef_outliers = tumor_volume_cef['Tumor Volume (mm3)'].loc[(tumor_volume_cef['Tumor Volume (mm3)'] < cef_lb) | (tumor_volume_cef['Tumor Volume (mm3)'] > cef_ub)]\n",
    "print(cef_outliers)\n",
    "\n",
    "print(f'There are no outliers in Capomullin, Ramicane, and Ceftamin. The only outlier is found in Infubolin, which may be {inf_outliers}')"
   ]
  },
  {
   "cell_type": "code",
   "execution_count": 21,
   "metadata": {},
   "outputs": [
    {
     "data": {
      "image/png": "[encoded data removed]",
      "text/plain": [
       "<Figure size 720x360 with 1 Axes>"
      ]
     },
     "metadata": {
      "needs_background": "light"
     },
     "output_type": "display_data"
    }
   ],
   "source": [
    "# Generate a box plot of the final tumor volume of each mouse across four regimens of interest\n",
    "\n",
    "#needed to use .flatten() for each of these since they were multidimensional when i tried last time\n",
    "#Googled on Stack - seems someone else had a similar issue and they were able to use this and it worked for me too\n",
    "cap = np.array(tumor_volume_cap).flatten()\n",
    "\n",
    "ram = np.array(tumor_volume_ram).flatten()\n",
    "\n",
    "inf = np.array(tumor_volume_inf).flatten()\n",
    "\n",
    "cef = np.array(tumor_volume_cef).flatten()\n",
    "\n",
    "#combine all data together for box plot\n",
    "data = [cap, ram, inf, cef]\n",
    "\n",
    "#plot box plot\n",
    "fig = plt.figure(1, figsize = (10,5))\n",
    "ax = fig.add_subplot(111)\n",
    "boxplot = ax.boxplot(data)\n",
    "\n",
    "#label axes\n",
    "plt.title('Drug Regimens and Final Tumor Volume')\n",
    "plt.ylabel('Tumor Volume (mm3)')\n",
    "ax.set_xticklabels(['Capomulin', 'Ramicane', 'Infubolin', 'Ceftamin'])\n",
    "\n",
    "plt.tight_layout()"
   ]
  },
  {
   "cell_type": "markdown",
   "metadata": {},
   "source": [
    "## Line and Scatter Plots"
   ]
  },
  {
   "cell_type": "code",
   "execution_count": 55,
   "metadata": {},
   "outputs": [
    {
     "data": {
      "text/plain": [
       "Text(0.5, 1.0, 'Tumor Volume with Capomulin Treatment')"
      ]
     },
     "execution_count": 55,
     "metadata": {},
     "output_type": "execute_result"
    },
    {
     "data": {
      "image/png": "[encoded data removed]",
      "text/plain": [
       "<Figure size 432x288 with 1 Axes>"
      ]
     },
     "metadata": {
      "needs_background": "light"
     },
     "output_type": "display_data"
    }
   ],
   "source": [
    "# Generate a line plot of time point versus tumor volume for a mouse treated with Capomulin\n",
    "#generate list for all mice treated with capomulin\n",
    "capomulin_values\n",
    "\n",
    "#randomly select one\n",
    "g316_data = capomulin_values.loc[capomulin_values['Mouse ID'] == \"g316\", :]\n",
    "\n",
    "#print data for mouse g316\n",
    "g316_data\n",
    "\n",
    "#call out specific columns for data - Time Point & Tumor Volume\n",
    "g316_axis = g316_data['Timepoint']\n",
    "\n",
    "\n",
    "g316_data = g316_data['Tumor Volume (mm3)']\n",
    "\n",
    "#plot & label \n",
    "plt.plot(g316_axis, g316_data)\n",
    "plt.xlabel('Timepoint (days)')\n",
    "plt.ylabel('Tumor Volume (mm3)')\n",
    "plt.title('Tumor Volume with Capomulin Treatment for Mouse G316')"
   ]
  },
  {
   "cell_type": "code",
   "execution_count": 77,
   "metadata": {},
   "outputs": [
    {
     "data": {
      "text/plain": [
       "Text(0.5, 1.0, 'Weight and Average Tumor Volume')"
      ]
     },
     "execution_count": 77,
     "metadata": {},
     "output_type": "execute_result"
    },
    {
     "data": {
      "image/png": "[encoded data removed]",
      "text/plain": [
       "<Figure size 432x288 with 1 Axes>"
      ]
     },
     "metadata": {
      "needs_background": "light"
     },
     "output_type": "display_data"
    }
   ],
   "source": [
    "# Generate a scatter plot of mouse weight versus average tumor volume for the Capomulin regimen\n",
    "\n",
    "#get all of the data for the drug Capomulin\n",
    "capomulin = single_mouse['Drug Regimen'] == 'Capomulin'\n",
    "capomulin_values = single_mouse[capomulin]\n",
    "\n",
    "#groupby Mouse ID\n",
    "mice_cap = capomulin_values.groupby(['Mouse ID'])\n",
    "\n",
    "#get the averages for the groupby\n",
    "average = mice_cap.mean()\n",
    "\n",
    "#call out specific columns \n",
    "tumav = average['Tumor Volume (mm3)']\n",
    "lbav = average['Weight (g)']\n",
    "\n",
    "#plot scatter plot\n",
    "plt.scatter(lbav, tumav, marker=\"o\", facecolors=\"orange\", edgecolors=\"blue\", s=50, alpha=1)\n",
    "\n",
    "#label axes\n",
    "plt.xlabel('Weight (g)')\n",
    "plt.ylabel('Average Tumor Volume (mm3)')\n",
    "plt.title('Weight and Average Tumor Volume')"
   ]
  },
  {
   "cell_type": "markdown",
   "metadata": {},
   "source": [
    "## Correlation and Regression"
   ]
  },
  {
   "cell_type": "code",
   "execution_count": 79,
   "metadata": {},
   "outputs": [
    {
     "name": "stdout",
     "output_type": "stream",
     "text": [
      "The correlation coefficient (r) is 0.84\n",
      "The p-value is 1.322572243471279e-07\n"
     ]
    }
   ],
   "source": [
    "# Calculate the correlation coefficient and linear regression model \n",
    "# for mouse weight and average tumor volume for the Capomulin regimen\n",
    "\n",
    "#get the variables from the last practice and use them here \n",
    "correlation = sts.pearsonr(lbav, tumav)\n",
    "\n",
    "print(f\"The correlation coefficient (r) is {round(correlation[0],2)}\")\n",
    "print(f\"The p-value is {correlation[1]}\")"
   ]
  },
  {
   "cell_type": "code",
   "execution_count": 93,
   "metadata": {},
   "outputs": [
    {
     "data": {
      "text/plain": [
       "Text(23, 40, 'y = 0.95x + 21.55')"
      ]
     },
     "execution_count": 93,
     "metadata": {},
     "output_type": "execute_result"
    },
    {
     "data": {
      "image/png": "[encoded data removed]",
      "text/plain": [
       "<Figure size 432x288 with 1 Axes>"
      ]
     },
     "metadata": {
      "needs_background": "light"
     },
     "output_type": "display_data"
    }
   ],
   "source": [
    "# Run the regression and store each of the returned values\n",
    "(slope, intercept, rvalue, pvalue, stderr) = linregress(lbav, tumav)\n",
    "\n",
    "# Calculate the predictions for each value of x (blood pressure)\n",
    "regress_values = lbav * slope + intercept\n",
    "\n",
    "# Create the linear equation\n",
    "line_eq = \"y = \" + str(round(slope,2)) + \"x + \" + str(round(intercept,2))\n",
    "\n",
    "# Plot the regression line\n",
    "plt.scatter(lbav, tumav, marker=\"o\", facecolors=\"orange\", edgecolors=\"blue\", s=50, alpha=1)\n",
    "plt.xlabel('Weight (g)')\n",
    "plt.ylabel('Average Tumor Volume (mm3)')\n",
    "plt.title('Weight and Average Tumor Volume')\n",
    "\n",
    "plt.plot(lbav, regress_values, \"red\")\n",
    "\n",
    "# Add the linear equation to the plot\n",
    "plt.annotate(line_eq, (23, 40), fontsize=15, color=\"red\")\n",
    "\n",
    "\n",
    "\n"
   ]
  },
  {
   "cell_type": "code",
   "execution_count": 94,
   "metadata": {},
   "outputs": [
    {
     "name": "stdout",
     "output_type": "stream",
     "text": [
      "The r-squared is: 0.7088568047708717\n"
     ]
    }
   ],
   "source": [
    "# calculate r2\n",
    "print(f\"The r-squared is: {rvalue**2}\")"
   ]
  },
  {
   "cell_type": "code",
   "execution_count": null,
   "metadata": {},
   "outputs": [],
   "source": []
  }
 ],
 "metadata": {
  "anaconda-cloud": {},
  "kernelspec": {
   "display_name": "Python 3",
   "language": "python",
   "name": "python3"
  },
  "language_info": {
   "codemirror_mode": {
    "name": "ipython",
    "version": 3
   },
   "file_extension": ".py",
   "mimetype": "text/x-python",
   "name": "python",
   "nbconvert_exporter": "python",
   "pygments_lexer": "ipython3",
   "version": "3.7.6"
  }
 },
 "nbformat": 4,
 "nbformat_minor": 2
}
